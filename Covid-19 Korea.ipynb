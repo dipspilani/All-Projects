{
 "cells": [
  {
   "cell_type": "code",
   "execution_count": 1,
   "metadata": {},
   "outputs": [],
   "source": [
    "import numpy as np\n",
    "import matplotlib.pyplot as plt\n",
    "import pandas as pd\n",
    "import seaborn as sns"
   ]
  },
  {
   "cell_type": "code",
   "execution_count": 2,
   "metadata": {},
   "outputs": [],
   "source": [
    "dataset_patientinfo = pd.read_csv('PatientInfo.csv')\n",
    "dataset_seoulfloating = pd.read_csv('SeoulFloating.csv')"
   ]
  },
  {
   "cell_type": "code",
   "execution_count": 3,
   "metadata": {
    "scrolled": true
   },
   "outputs": [
    {
     "data": {
      "text/html": [
       "<div>\n",
       "<style scoped>\n",
       "    .dataframe tbody tr th:only-of-type {\n",
       "        vertical-align: middle;\n",
       "    }\n",
       "\n",
       "    .dataframe tbody tr th {\n",
       "        vertical-align: top;\n",
       "    }\n",
       "\n",
       "    .dataframe thead th {\n",
       "        text-align: right;\n",
       "    }\n",
       "</style>\n",
       "<table border=\"1\" class=\"dataframe\">\n",
       "  <thead>\n",
       "    <tr style=\"text-align: right;\">\n",
       "      <th></th>\n",
       "      <th>patient_id</th>\n",
       "      <th>sex</th>\n",
       "      <th>age</th>\n",
       "      <th>country</th>\n",
       "      <th>province</th>\n",
       "      <th>city</th>\n",
       "      <th>infection_case</th>\n",
       "      <th>infected_by</th>\n",
       "      <th>contact_number</th>\n",
       "      <th>symptom_onset_date</th>\n",
       "      <th>confirmed_date</th>\n",
       "      <th>released_date</th>\n",
       "      <th>deceased_date</th>\n",
       "      <th>state</th>\n",
       "    </tr>\n",
       "  </thead>\n",
       "  <tbody>\n",
       "    <tr>\n",
       "      <th>5160</th>\n",
       "      <td>7000000015</td>\n",
       "      <td>female</td>\n",
       "      <td>30s</td>\n",
       "      <td>Korea</td>\n",
       "      <td>Jeju-do</td>\n",
       "      <td>Jeju-do</td>\n",
       "      <td>overseas inflow</td>\n",
       "      <td>NaN</td>\n",
       "      <td>25</td>\n",
       "      <td>NaN</td>\n",
       "      <td>2020-05-30</td>\n",
       "      <td>2020-06-13</td>\n",
       "      <td>NaN</td>\n",
       "      <td>released</td>\n",
       "    </tr>\n",
       "    <tr>\n",
       "      <th>5161</th>\n",
       "      <td>7000000016</td>\n",
       "      <td>NaN</td>\n",
       "      <td>NaN</td>\n",
       "      <td>Korea</td>\n",
       "      <td>Jeju-do</td>\n",
       "      <td>Jeju-do</td>\n",
       "      <td>overseas inflow</td>\n",
       "      <td>NaN</td>\n",
       "      <td>NaN</td>\n",
       "      <td>NaN</td>\n",
       "      <td>2020-06-16</td>\n",
       "      <td>2020-06-24</td>\n",
       "      <td>NaN</td>\n",
       "      <td>released</td>\n",
       "    </tr>\n",
       "    <tr>\n",
       "      <th>5162</th>\n",
       "      <td>7000000017</td>\n",
       "      <td>NaN</td>\n",
       "      <td>NaN</td>\n",
       "      <td>Bangladesh</td>\n",
       "      <td>Jeju-do</td>\n",
       "      <td>Jeju-do</td>\n",
       "      <td>overseas inflow</td>\n",
       "      <td>NaN</td>\n",
       "      <td>72</td>\n",
       "      <td>NaN</td>\n",
       "      <td>2020-06-18</td>\n",
       "      <td>NaN</td>\n",
       "      <td>NaN</td>\n",
       "      <td>isolated</td>\n",
       "    </tr>\n",
       "    <tr>\n",
       "      <th>5163</th>\n",
       "      <td>7000000018</td>\n",
       "      <td>NaN</td>\n",
       "      <td>NaN</td>\n",
       "      <td>Bangladesh</td>\n",
       "      <td>Jeju-do</td>\n",
       "      <td>Jeju-do</td>\n",
       "      <td>overseas inflow</td>\n",
       "      <td>NaN</td>\n",
       "      <td>NaN</td>\n",
       "      <td>NaN</td>\n",
       "      <td>2020-06-18</td>\n",
       "      <td>NaN</td>\n",
       "      <td>NaN</td>\n",
       "      <td>isolated</td>\n",
       "    </tr>\n",
       "    <tr>\n",
       "      <th>5164</th>\n",
       "      <td>7000000019</td>\n",
       "      <td>NaN</td>\n",
       "      <td>NaN</td>\n",
       "      <td>Bangladesh</td>\n",
       "      <td>Jeju-do</td>\n",
       "      <td>Jeju-do</td>\n",
       "      <td>overseas inflow</td>\n",
       "      <td>NaN</td>\n",
       "      <td>NaN</td>\n",
       "      <td>NaN</td>\n",
       "      <td>2020-06-18</td>\n",
       "      <td>NaN</td>\n",
       "      <td>NaN</td>\n",
       "      <td>isolated</td>\n",
       "    </tr>\n",
       "  </tbody>\n",
       "</table>\n",
       "</div>"
      ],
      "text/plain": [
       "      patient_id     sex  age     country province     city   infection_case  \\\n",
       "5160  7000000015  female  30s       Korea  Jeju-do  Jeju-do  overseas inflow   \n",
       "5161  7000000016     NaN  NaN       Korea  Jeju-do  Jeju-do  overseas inflow   \n",
       "5162  7000000017     NaN  NaN  Bangladesh  Jeju-do  Jeju-do  overseas inflow   \n",
       "5163  7000000018     NaN  NaN  Bangladesh  Jeju-do  Jeju-do  overseas inflow   \n",
       "5164  7000000019     NaN  NaN  Bangladesh  Jeju-do  Jeju-do  overseas inflow   \n",
       "\n",
       "     infected_by contact_number symptom_onset_date confirmed_date  \\\n",
       "5160         NaN             25                NaN     2020-05-30   \n",
       "5161         NaN            NaN                NaN     2020-06-16   \n",
       "5162         NaN             72                NaN     2020-06-18   \n",
       "5163         NaN            NaN                NaN     2020-06-18   \n",
       "5164         NaN            NaN                NaN     2020-06-18   \n",
       "\n",
       "     released_date deceased_date     state  \n",
       "5160    2020-06-13           NaN  released  \n",
       "5161    2020-06-24           NaN  released  \n",
       "5162           NaN           NaN  isolated  \n",
       "5163           NaN           NaN  isolated  \n",
       "5164           NaN           NaN  isolated  "
      ]
     },
     "execution_count": 3,
     "metadata": {},
     "output_type": "execute_result"
    }
   ],
   "source": [
    "dataset_patientinfo.tail()"
   ]
  },
  {
   "cell_type": "code",
   "execution_count": 4,
   "metadata": {
    "scrolled": true
   },
   "outputs": [
    {
     "data": {
      "text/plain": [
       "<matplotlib.axes._subplots.AxesSubplot at 0x1f177eec5c0>"
      ]
     },
     "execution_count": 4,
     "metadata": {},
     "output_type": "execute_result"
    },
    {
     "data": {
      "image/png": "[encoded data removed]",
      "text/plain": [
       "<Figure size 432x288 with 1 Axes>"
      ]
     },
     "metadata": {
      "needs_background": "light"
     },
     "output_type": "display_data"
    }
   ],
   "source": [
    "# CHILDREN ARE LESS LIKELY TO CATCH THE INFECTION, WORKING AGE IS HIGHLY VULNERABLE. (FROM JAN TO JUNE DATA)\n",
    "sns.barplot(x=[\"0s\",\"10s\",\"20s\",\"30s\",\"40s\",\"50s\",\"60s\",\"70s\",\"80s\"] , y = [66,178,899,523,518,667,482,232,170])"
   ]
  },
  {
   "cell_type": "code",
   "execution_count": 5,
   "metadata": {},
   "outputs": [
    {
     "data": {
      "text/plain": [
       "<matplotlib.axes._subplots.AxesSubplot at 0x1f1792ce048>"
      ]
     },
     "execution_count": 5,
     "metadata": {},
     "output_type": "execute_result"
    },
    {
     "data": {
      "image/png": "[encoded data removed]",
      "text/plain": [
       "<Figure size 432x288 with 1 Axes>"
      ]
     },
     "metadata": {
      "needs_background": "light"
     },
     "output_type": "display_data"
    }
   ],
   "source": [
    "sns.barplot(x=[\"Female\",\"Male\"],y=[2218,1825]) #THIS SHOWS THAT FEMALES HAVE A HIGHER INFECTION RATE"
   ]
  },
  {
   "cell_type": "code",
   "execution_count": 6,
   "metadata": {},
   "outputs": [
    {
     "name": "stdout",
     "output_type": "stream",
     "text": [
      "<class 'pandas.core.frame.DataFrame'>\n",
      "RangeIndex: 5165 entries, 0 to 5164\n",
      "Data columns (total 14 columns):\n",
      "patient_id            5165 non-null int64\n",
      "sex                   4043 non-null object\n",
      "age                   3785 non-null object\n",
      "country               5165 non-null object\n",
      "province              5165 non-null object\n",
      "city                  5071 non-null object\n",
      "infection_case        4246 non-null object\n",
      "infected_by           1346 non-null object\n",
      "contact_number        791 non-null object\n",
      "symptom_onset_date    690 non-null object\n",
      "confirmed_date        5162 non-null object\n",
      "released_date         1587 non-null object\n",
      "deceased_date         66 non-null object\n",
      "state                 5165 non-null object\n",
      "dtypes: int64(1), object(13)\n",
      "memory usage: 565.0+ KB\n"
     ]
    }
   ],
   "source": [
    "dataset_patientinfo.info()"
   ]
  },
  {
   "cell_type": "code",
   "execution_count": 7,
   "metadata": {},
   "outputs": [],
   "source": [
    "infectionperc_by_area = [1610/4246 , 840/4246 , 703/4246 , 162/4246 , 128/4246]\n",
    "for i in range(len(infectionperc_by_area)):\n",
    "    infectionperc_by_area[i] = infectionperc_by_area[i]*100\n",
    "infectionperc_by_area_label=['contact with patient','overseas inflow','etc','Itaewon Clubs','Richway']\n",
    "\n"
   ]
  },
  {
   "cell_type": "code",
   "execution_count": 8,
   "metadata": {},
   "outputs": [
    {
     "data": {
      "text/plain": [
       "<matplotlib.axes._subplots.AxesSubplot at 0x1f1792f05c0>"
      ]
     },
     "execution_count": 8,
     "metadata": {},
     "output_type": "execute_result"
    },
    {
     "data": {
      "image/png": "[encoded data removed]",
      "text/plain": [
       "<Figure size 432x288 with 1 Axes>"
      ]
     },
     "metadata": {
      "needs_background": "light"
     },
     "output_type": "display_data"
    }
   ],
   "source": [
    "sns.barplot(x=infectionperc_by_area_label[:10],y=infectionperc_by_area[:10]) #TOP 5 SOURCES OF COVID-19 AND THEIR %"
   ]
  },
  {
   "cell_type": "code",
   "execution_count": 9,
   "metadata": {},
   "outputs": [
    {
     "data": {
      "text/plain": [
       "<matplotlib.axes._subplots.AxesSubplot at 0x1f1793917b8>"
      ]
     },
     "execution_count": 9,
     "metadata": {},
     "output_type": "execute_result"
    },
    {
     "data": {
      "image/png": "[encoded data removed]",
      "text/plain": [
       "<Figure size 432x288 with 1 Axes>"
      ]
     },
     "metadata": {
      "needs_background": "light"
     },
     "output_type": "display_data"
    }
   ],
   "source": [
    "#SUPER SPREADERS\n",
    "sns.barplot(x=[\"2000000205\",\"4100000008\",\"2000000167\",\"1400000209\",\"4100000006\",\"2000000309\"] , y=[51,27,24,24,21,21]) "
   ]
  },
  {
   "cell_type": "code",
   "execution_count": 10,
   "metadata": {},
   "outputs": [
    {
     "data": {
      "text/plain": [
       "released    2929\n",
       "isolated    2158\n",
       "deceased      78\n",
       "Name: state, dtype: int64"
      ]
     },
     "execution_count": 10,
     "metadata": {},
     "output_type": "execute_result"
    }
   ],
   "source": [
    "dataset_patientinfo['state'].value_counts()"
   ]
  },
  {
   "cell_type": "code",
   "execution_count": 11,
   "metadata": {},
   "outputs": [
    {
     "data": {
      "text/plain": [
       "female    2218\n",
       "male      1825\n",
       "Name: sex, dtype: int64"
      ]
     },
     "execution_count": 11,
     "metadata": {},
     "output_type": "execute_result"
    }
   ],
   "source": [
    "dataset_patientinfo['sex'].value_counts()"
   ]
  },
  {
   "cell_type": "code",
   "execution_count": 12,
   "metadata": {},
   "outputs": [],
   "source": [
    "sorted_by_state = dataset_patientinfo.sort_values(by='state')   "
   ]
  },
  {
   "cell_type": "code",
   "execution_count": 13,
   "metadata": {},
   "outputs": [
    {
     "data": {
      "text/html": [
       "<div>\n",
       "<style scoped>\n",
       "    .dataframe tbody tr th:only-of-type {\n",
       "        vertical-align: middle;\n",
       "    }\n",
       "\n",
       "    .dataframe tbody tr th {\n",
       "        vertical-align: top;\n",
       "    }\n",
       "\n",
       "    .dataframe thead th {\n",
       "        text-align: right;\n",
       "    }\n",
       "</style>\n",
       "<table border=\"1\" class=\"dataframe\">\n",
       "  <thead>\n",
       "    <tr style=\"text-align: right;\">\n",
       "      <th></th>\n",
       "      <th>patient_id</th>\n",
       "      <th>sex</th>\n",
       "      <th>age</th>\n",
       "      <th>country</th>\n",
       "      <th>province</th>\n",
       "      <th>city</th>\n",
       "      <th>infection_case</th>\n",
       "      <th>infected_by</th>\n",
       "      <th>contact_number</th>\n",
       "      <th>symptom_onset_date</th>\n",
       "      <th>confirmed_date</th>\n",
       "      <th>released_date</th>\n",
       "      <th>deceased_date</th>\n",
       "      <th>state</th>\n",
       "    </tr>\n",
       "  </thead>\n",
       "  <tbody>\n",
       "    <tr>\n",
       "      <th>1513</th>\n",
       "      <td>1200001921</td>\n",
       "      <td>male</td>\n",
       "      <td>60s</td>\n",
       "      <td>Korea</td>\n",
       "      <td>Daegu</td>\n",
       "      <td>NaN</td>\n",
       "      <td>NaN</td>\n",
       "      <td>NaN</td>\n",
       "      <td>NaN</td>\n",
       "      <td>NaN</td>\n",
       "      <td>2020-02-28</td>\n",
       "      <td>NaN</td>\n",
       "      <td>2020-03-05</td>\n",
       "      <td>deceased</td>\n",
       "    </tr>\n",
       "    <tr>\n",
       "      <th>4106</th>\n",
       "      <td>6001000349</td>\n",
       "      <td>female</td>\n",
       "      <td>70s</td>\n",
       "      <td>Korea</td>\n",
       "      <td>Gyeongsangbuk-do</td>\n",
       "      <td>Gyeongsan-si</td>\n",
       "      <td>etc</td>\n",
       "      <td>NaN</td>\n",
       "      <td>NaN</td>\n",
       "      <td>NaN</td>\n",
       "      <td>2020-03-05</td>\n",
       "      <td>2020-05-08</td>\n",
       "      <td>2020-05-11</td>\n",
       "      <td>deceased</td>\n",
       "    </tr>\n",
       "    <tr>\n",
       "      <th>4042</th>\n",
       "      <td>6001000285</td>\n",
       "      <td>male</td>\n",
       "      <td>60s</td>\n",
       "      <td>Korea</td>\n",
       "      <td>Gyeongsangbuk-do</td>\n",
       "      <td>Gyeongsan-si</td>\n",
       "      <td>NaN</td>\n",
       "      <td>NaN</td>\n",
       "      <td>NaN</td>\n",
       "      <td>NaN</td>\n",
       "      <td>2020-03-03</td>\n",
       "      <td>NaN</td>\n",
       "      <td>2020-03-04</td>\n",
       "      <td>deceased</td>\n",
       "    </tr>\n",
       "    <tr>\n",
       "      <th>3980</th>\n",
       "      <td>6001000223</td>\n",
       "      <td>female</td>\n",
       "      <td>80s</td>\n",
       "      <td>Korea</td>\n",
       "      <td>Gyeongsangbuk-do</td>\n",
       "      <td>Gyeongsan-si</td>\n",
       "      <td>NaN</td>\n",
       "      <td>NaN</td>\n",
       "      <td>NaN</td>\n",
       "      <td>NaN</td>\n",
       "      <td>2020-03-02</td>\n",
       "      <td>2020-03-30</td>\n",
       "      <td>2020-04-08</td>\n",
       "      <td>deceased</td>\n",
       "    </tr>\n",
       "    <tr>\n",
       "      <th>108</th>\n",
       "      <td>1000000109</td>\n",
       "      <td>male</td>\n",
       "      <td>90s</td>\n",
       "      <td>Korea</td>\n",
       "      <td>Seoul</td>\n",
       "      <td>etc</td>\n",
       "      <td>contact with patient</td>\n",
       "      <td>NaN</td>\n",
       "      <td>NaN</td>\n",
       "      <td>2020-03-02</td>\n",
       "      <td>2020-03-07</td>\n",
       "      <td>NaN</td>\n",
       "      <td>NaN</td>\n",
       "      <td>deceased</td>\n",
       "    </tr>\n",
       "  </tbody>\n",
       "</table>\n",
       "</div>"
      ],
      "text/plain": [
       "      patient_id     sex  age country          province          city  \\\n",
       "1513  1200001921    male  60s   Korea             Daegu           NaN   \n",
       "4106  6001000349  female  70s   Korea  Gyeongsangbuk-do  Gyeongsan-si   \n",
       "4042  6001000285    male  60s   Korea  Gyeongsangbuk-do  Gyeongsan-si   \n",
       "3980  6001000223  female  80s   Korea  Gyeongsangbuk-do  Gyeongsan-si   \n",
       "108   1000000109    male  90s   Korea             Seoul           etc   \n",
       "\n",
       "            infection_case infected_by contact_number symptom_onset_date  \\\n",
       "1513                   NaN         NaN            NaN                NaN   \n",
       "4106                   etc         NaN            NaN                NaN   \n",
       "4042                   NaN         NaN            NaN                NaN   \n",
       "3980                   NaN         NaN            NaN                NaN   \n",
       "108   contact with patient         NaN            NaN         2020-03-02   \n",
       "\n",
       "     confirmed_date released_date deceased_date     state  \n",
       "1513     2020-02-28           NaN    2020-03-05  deceased  \n",
       "4106     2020-03-05    2020-05-08    2020-05-11  deceased  \n",
       "4042     2020-03-03           NaN    2020-03-04  deceased  \n",
       "3980     2020-03-02    2020-03-30    2020-04-08  deceased  \n",
       "108      2020-03-07           NaN           NaN  deceased  "
      ]
     },
     "execution_count": 13,
     "metadata": {},
     "output_type": "execute_result"
    }
   ],
   "source": [
    "sorted_by_state.head()"
   ]
  },
  {
   "cell_type": "code",
   "execution_count": 14,
   "metadata": {},
   "outputs": [],
   "source": [
    "all_deceased = sorted_by_state.iloc[:78,[1,2]]"
   ]
  },
  {
   "cell_type": "code",
   "execution_count": 15,
   "metadata": {},
   "outputs": [
    {
     "data": {
      "text/plain": [
       "male      47\n",
       "female    28\n",
       "Name: sex, dtype: int64"
      ]
     },
     "execution_count": 15,
     "metadata": {},
     "output_type": "execute_result"
    }
   ],
   "source": [
    "all_deceased['sex'].value_counts()"
   ]
  },
  {
   "cell_type": "code",
   "execution_count": 16,
   "metadata": {},
   "outputs": [
    {
     "data": {
      "text/plain": [
       "<matplotlib.axes._subplots.AxesSubplot at 0x1f1793fcbe0>"
      ]
     },
     "execution_count": 16,
     "metadata": {},
     "output_type": "execute_result"
    },
    {
     "data": {
      "image/png": "[encoded data removed]",
      "text/plain": [
       "<Figure size 432x288 with 1 Axes>"
      ]
     },
     "metadata": {
      "needs_background": "light"
     },
     "output_type": "display_data"
    }
   ],
   "source": [
    "# CHANCES OF A MAN DYING OF THE DISEASE IS ALMOST 2X HIGHER\n",
    "sns.barplot(x=['male','female'],y=[47,28])"
   ]
  },
  {
   "cell_type": "code",
   "execution_count": 17,
   "metadata": {},
   "outputs": [
    {
     "data": {
      "text/plain": [
       "80s    25\n",
       "70s    21\n",
       "60s    12\n",
       "90s     7\n",
       "50s     7\n",
       "40s     2\n",
       "30s     1\n",
       "Name: age, dtype: int64"
      ]
     },
     "execution_count": 17,
     "metadata": {},
     "output_type": "execute_result"
    }
   ],
   "source": [
    "all_deceased['age'].value_counts()"
   ]
  },
  {
   "cell_type": "code",
   "execution_count": 18,
   "metadata": {},
   "outputs": [
    {
     "data": {
      "text/plain": [
       "<matplotlib.axes._subplots.AxesSubplot at 0x1f1793ea470>"
      ]
     },
     "execution_count": 18,
     "metadata": {},
     "output_type": "execute_result"
    },
    {
     "data": {
      "image/png": "[encoded data removed]",
      "text/plain": [
       "<Figure size 432x288 with 1 Axes>"
      ]
     },
     "metadata": {
      "needs_background": "light"
     },
     "output_type": "display_data"
    }
   ],
   "source": [
    "#DEATH RATE IS LINEARLY CORRELATED WITH AGE\n",
    "sns.barplot(x=['80s','70s','60s','50s','90s','40s','30s'],y=[25,21,12,7,7,2,1])"
   ]
  },
  {
   "cell_type": "code",
   "execution_count": 19,
   "metadata": {},
   "outputs": [],
   "source": [
    "def time_format(x):\n",
    "    x = str(x)\n",
    "    if \"-\" in x:\n",
    "        z = x.split(\"-\")\n",
    "        return z"
   ]
  },
  {
   "cell_type": "code",
   "execution_count": 20,
   "metadata": {},
   "outputs": [],
   "source": [
    "dataset_patientinfo['confirmed_date'] = dataset_patientinfo['confirmed_date'].apply(lambda x:time_format(x))\n",
    "dataset_patientinfo['released_date'] = dataset_patientinfo['released_date'].apply(lambda x:time_format(x))"
   ]
  },
  {
   "cell_type": "code",
   "execution_count": 21,
   "metadata": {},
   "outputs": [
    {
     "data": {
      "text/html": [
       "<div>\n",
       "<style scoped>\n",
       "    .dataframe tbody tr th:only-of-type {\n",
       "        vertical-align: middle;\n",
       "    }\n",
       "\n",
       "    .dataframe tbody tr th {\n",
       "        vertical-align: top;\n",
       "    }\n",
       "\n",
       "    .dataframe thead th {\n",
       "        text-align: right;\n",
       "    }\n",
       "</style>\n",
       "<table border=\"1\" class=\"dataframe\">\n",
       "  <thead>\n",
       "    <tr style=\"text-align: right;\">\n",
       "      <th></th>\n",
       "      <th>patient_id</th>\n",
       "      <th>sex</th>\n",
       "      <th>age</th>\n",
       "      <th>country</th>\n",
       "      <th>province</th>\n",
       "      <th>city</th>\n",
       "      <th>infection_case</th>\n",
       "      <th>infected_by</th>\n",
       "      <th>contact_number</th>\n",
       "      <th>symptom_onset_date</th>\n",
       "      <th>confirmed_date</th>\n",
       "      <th>released_date</th>\n",
       "      <th>deceased_date</th>\n",
       "      <th>state</th>\n",
       "    </tr>\n",
       "  </thead>\n",
       "  <tbody>\n",
       "    <tr>\n",
       "      <th>0</th>\n",
       "      <td>1000000001</td>\n",
       "      <td>male</td>\n",
       "      <td>50s</td>\n",
       "      <td>Korea</td>\n",
       "      <td>Seoul</td>\n",
       "      <td>Gangseo-gu</td>\n",
       "      <td>overseas inflow</td>\n",
       "      <td>NaN</td>\n",
       "      <td>75</td>\n",
       "      <td>2020-01-22</td>\n",
       "      <td>[2020, 01, 23]</td>\n",
       "      <td>[2020, 02, 05]</td>\n",
       "      <td>NaN</td>\n",
       "      <td>released</td>\n",
       "    </tr>\n",
       "    <tr>\n",
       "      <th>1</th>\n",
       "      <td>1000000002</td>\n",
       "      <td>male</td>\n",
       "      <td>30s</td>\n",
       "      <td>Korea</td>\n",
       "      <td>Seoul</td>\n",
       "      <td>Jungnang-gu</td>\n",
       "      <td>overseas inflow</td>\n",
       "      <td>NaN</td>\n",
       "      <td>31</td>\n",
       "      <td>NaN</td>\n",
       "      <td>[2020, 01, 30]</td>\n",
       "      <td>[2020, 03, 02]</td>\n",
       "      <td>NaN</td>\n",
       "      <td>released</td>\n",
       "    </tr>\n",
       "    <tr>\n",
       "      <th>2</th>\n",
       "      <td>1000000003</td>\n",
       "      <td>male</td>\n",
       "      <td>50s</td>\n",
       "      <td>Korea</td>\n",
       "      <td>Seoul</td>\n",
       "      <td>Jongno-gu</td>\n",
       "      <td>contact with patient</td>\n",
       "      <td>2002000001</td>\n",
       "      <td>17</td>\n",
       "      <td>NaN</td>\n",
       "      <td>[2020, 01, 30]</td>\n",
       "      <td>[2020, 02, 19]</td>\n",
       "      <td>NaN</td>\n",
       "      <td>released</td>\n",
       "    </tr>\n",
       "    <tr>\n",
       "      <th>3</th>\n",
       "      <td>1000000004</td>\n",
       "      <td>male</td>\n",
       "      <td>20s</td>\n",
       "      <td>Korea</td>\n",
       "      <td>Seoul</td>\n",
       "      <td>Mapo-gu</td>\n",
       "      <td>overseas inflow</td>\n",
       "      <td>NaN</td>\n",
       "      <td>9</td>\n",
       "      <td>2020-01-26</td>\n",
       "      <td>[2020, 01, 30]</td>\n",
       "      <td>[2020, 02, 15]</td>\n",
       "      <td>NaN</td>\n",
       "      <td>released</td>\n",
       "    </tr>\n",
       "    <tr>\n",
       "      <th>4</th>\n",
       "      <td>1000000005</td>\n",
       "      <td>female</td>\n",
       "      <td>20s</td>\n",
       "      <td>Korea</td>\n",
       "      <td>Seoul</td>\n",
       "      <td>Seongbuk-gu</td>\n",
       "      <td>contact with patient</td>\n",
       "      <td>1000000002</td>\n",
       "      <td>2</td>\n",
       "      <td>NaN</td>\n",
       "      <td>[2020, 01, 31]</td>\n",
       "      <td>[2020, 02, 24]</td>\n",
       "      <td>NaN</td>\n",
       "      <td>released</td>\n",
       "    </tr>\n",
       "  </tbody>\n",
       "</table>\n",
       "</div>"
      ],
      "text/plain": [
       "   patient_id     sex  age country province         city  \\\n",
       "0  1000000001    male  50s   Korea    Seoul   Gangseo-gu   \n",
       "1  1000000002    male  30s   Korea    Seoul  Jungnang-gu   \n",
       "2  1000000003    male  50s   Korea    Seoul    Jongno-gu   \n",
       "3  1000000004    male  20s   Korea    Seoul      Mapo-gu   \n",
       "4  1000000005  female  20s   Korea    Seoul  Seongbuk-gu   \n",
       "\n",
       "         infection_case infected_by contact_number symptom_onset_date  \\\n",
       "0       overseas inflow         NaN             75         2020-01-22   \n",
       "1       overseas inflow         NaN             31                NaN   \n",
       "2  contact with patient  2002000001             17                NaN   \n",
       "3       overseas inflow         NaN              9         2020-01-26   \n",
       "4  contact with patient  1000000002              2                NaN   \n",
       "\n",
       "   confirmed_date   released_date deceased_date     state  \n",
       "0  [2020, 01, 23]  [2020, 02, 05]           NaN  released  \n",
       "1  [2020, 01, 30]  [2020, 03, 02]           NaN  released  \n",
       "2  [2020, 01, 30]  [2020, 02, 19]           NaN  released  \n",
       "3  [2020, 01, 30]  [2020, 02, 15]           NaN  released  \n",
       "4  [2020, 01, 31]  [2020, 02, 24]           NaN  released  "
      ]
     },
     "execution_count": 21,
     "metadata": {},
     "output_type": "execute_result"
    }
   ],
   "source": [
    "dataset_patientinfo.head()"
   ]
  },
  {
   "cell_type": "code",
   "execution_count": 22,
   "metadata": {},
   "outputs": [],
   "source": [
    "from datetime import date"
   ]
  },
  {
   "cell_type": "code",
   "execution_count": 23,
   "metadata": {},
   "outputs": [],
   "source": [
    "confirm_cure = dataset_patientinfo.iloc[:,[10,11]].values"
   ]
  },
  {
   "cell_type": "code",
   "execution_count": 24,
   "metadata": {},
   "outputs": [],
   "source": [
    "duration = []\n",
    "for i in confirm_cure:\n",
    "    if i[0] and i[1]:\n",
    "        start = date(int(i[0][0]),int(i[0][1]),int(i[0][2]))\n",
    "        end = date(int(i[1][0]),int(i[1][1]),int(i[1][2]))\n",
    "        duration.append((end-start).days)"
   ]
  },
  {
   "cell_type": "code",
   "execution_count": 25,
   "metadata": {},
   "outputs": [
    {
     "data": {
      "text/plain": [
       "<matplotlib.axes._subplots.AxesSubplot at 0x1f179459be0>"
      ]
     },
     "execution_count": 25,
     "metadata": {},
     "output_type": "execute_result"
    },
    {
     "data": {
      "image/png": "[encoded data removed]",
      "text/plain": [
       "<Figure size 432x288 with 1 Axes>"
      ]
     },
     "metadata": {
      "needs_background": "light"
     },
     "output_type": "display_data"
    }
   ],
   "source": [
    "# FOR MOST PEOPLE, RECOVERY TIME IS 20-25 DAYS.\n",
    "sns.distplot(duration,bins=50)"
   ]
  },
  {
   "cell_type": "code",
   "execution_count": 26,
   "metadata": {},
   "outputs": [
    {
     "data": {
      "text/plain": [
       "24.73156899810964"
      ]
     },
     "execution_count": 26,
     "metadata": {},
     "output_type": "execute_result"
    }
   ],
   "source": [
    "import statistics\n",
    "statistics.mean(duration)\n",
    "\n",
    "#average recovery time is 24.71 days."
   ]
  },
  {
   "cell_type": "code",
   "execution_count": 27,
   "metadata": {
    "scrolled": true
   },
   "outputs": [
    {
     "data": {
      "text/html": [
       "<div>\n",
       "<style scoped>\n",
       "    .dataframe tbody tr th:only-of-type {\n",
       "        vertical-align: middle;\n",
       "    }\n",
       "\n",
       "    .dataframe tbody tr th {\n",
       "        vertical-align: top;\n",
       "    }\n",
       "\n",
       "    .dataframe thead th {\n",
       "        text-align: right;\n",
       "    }\n",
       "</style>\n",
       "<table border=\"1\" class=\"dataframe\">\n",
       "  <thead>\n",
       "    <tr style=\"text-align: right;\">\n",
       "      <th></th>\n",
       "      <th>date</th>\n",
       "      <th>hour</th>\n",
       "      <th>birth_year</th>\n",
       "      <th>sex</th>\n",
       "      <th>province</th>\n",
       "      <th>city</th>\n",
       "      <th>fp_num</th>\n",
       "    </tr>\n",
       "  </thead>\n",
       "  <tbody>\n",
       "    <tr>\n",
       "      <th>0</th>\n",
       "      <td>2020-01-01</td>\n",
       "      <td>0</td>\n",
       "      <td>20</td>\n",
       "      <td>female</td>\n",
       "      <td>Seoul</td>\n",
       "      <td>Dobong-gu</td>\n",
       "      <td>19140</td>\n",
       "    </tr>\n",
       "    <tr>\n",
       "      <th>1</th>\n",
       "      <td>2020-01-01</td>\n",
       "      <td>0</td>\n",
       "      <td>20</td>\n",
       "      <td>male</td>\n",
       "      <td>Seoul</td>\n",
       "      <td>Dobong-gu</td>\n",
       "      <td>19950</td>\n",
       "    </tr>\n",
       "    <tr>\n",
       "      <th>2</th>\n",
       "      <td>2020-01-01</td>\n",
       "      <td>0</td>\n",
       "      <td>20</td>\n",
       "      <td>female</td>\n",
       "      <td>Seoul</td>\n",
       "      <td>Dongdaemun-gu</td>\n",
       "      <td>25450</td>\n",
       "    </tr>\n",
       "    <tr>\n",
       "      <th>3</th>\n",
       "      <td>2020-01-01</td>\n",
       "      <td>0</td>\n",
       "      <td>20</td>\n",
       "      <td>male</td>\n",
       "      <td>Seoul</td>\n",
       "      <td>Dongdaemun-gu</td>\n",
       "      <td>27050</td>\n",
       "    </tr>\n",
       "    <tr>\n",
       "      <th>4</th>\n",
       "      <td>2020-01-01</td>\n",
       "      <td>0</td>\n",
       "      <td>20</td>\n",
       "      <td>female</td>\n",
       "      <td>Seoul</td>\n",
       "      <td>Dongjag-gu</td>\n",
       "      <td>28880</td>\n",
       "    </tr>\n",
       "  </tbody>\n",
       "</table>\n",
       "</div>"
      ],
      "text/plain": [
       "         date  hour  birth_year     sex province           city  fp_num\n",
       "0  2020-01-01     0          20  female    Seoul      Dobong-gu   19140\n",
       "1  2020-01-01     0          20    male    Seoul      Dobong-gu   19950\n",
       "2  2020-01-01     0          20  female    Seoul  Dongdaemun-gu   25450\n",
       "3  2020-01-01     0          20    male    Seoul  Dongdaemun-gu   27050\n",
       "4  2020-01-01     0          20  female    Seoul     Dongjag-gu   28880"
      ]
     },
     "execution_count": 27,
     "metadata": {},
     "output_type": "execute_result"
    }
   ],
   "source": [
    "dataset_seoulfloating.head()"
   ]
  },
  {
   "cell_type": "code",
   "execution_count": 28,
   "metadata": {},
   "outputs": [],
   "source": [
    "dataset_tg = pd.read_csv('TimeGender.csv')"
   ]
  },
  {
   "cell_type": "code",
   "execution_count": 29,
   "metadata": {},
   "outputs": [
    {
     "data": {
      "text/html": [
       "<div>\n",
       "<style scoped>\n",
       "    .dataframe tbody tr th:only-of-type {\n",
       "        vertical-align: middle;\n",
       "    }\n",
       "\n",
       "    .dataframe tbody tr th {\n",
       "        vertical-align: top;\n",
       "    }\n",
       "\n",
       "    .dataframe thead th {\n",
       "        text-align: right;\n",
       "    }\n",
       "</style>\n",
       "<table border=\"1\" class=\"dataframe\">\n",
       "  <thead>\n",
       "    <tr style=\"text-align: right;\">\n",
       "      <th></th>\n",
       "      <th>date</th>\n",
       "      <th>time</th>\n",
       "      <th>sex</th>\n",
       "      <th>confirmed</th>\n",
       "      <th>deceased</th>\n",
       "    </tr>\n",
       "  </thead>\n",
       "  <tbody>\n",
       "    <tr>\n",
       "      <th>0</th>\n",
       "      <td>2020-03-02</td>\n",
       "      <td>0</td>\n",
       "      <td>male</td>\n",
       "      <td>1591</td>\n",
       "      <td>13</td>\n",
       "    </tr>\n",
       "    <tr>\n",
       "      <th>1</th>\n",
       "      <td>2020-03-02</td>\n",
       "      <td>0</td>\n",
       "      <td>female</td>\n",
       "      <td>2621</td>\n",
       "      <td>9</td>\n",
       "    </tr>\n",
       "    <tr>\n",
       "      <th>2</th>\n",
       "      <td>2020-03-03</td>\n",
       "      <td>0</td>\n",
       "      <td>male</td>\n",
       "      <td>1810</td>\n",
       "      <td>16</td>\n",
       "    </tr>\n",
       "    <tr>\n",
       "      <th>3</th>\n",
       "      <td>2020-03-03</td>\n",
       "      <td>0</td>\n",
       "      <td>female</td>\n",
       "      <td>3002</td>\n",
       "      <td>12</td>\n",
       "    </tr>\n",
       "    <tr>\n",
       "      <th>4</th>\n",
       "      <td>2020-03-04</td>\n",
       "      <td>0</td>\n",
       "      <td>male</td>\n",
       "      <td>1996</td>\n",
       "      <td>20</td>\n",
       "    </tr>\n",
       "  </tbody>\n",
       "</table>\n",
       "</div>"
      ],
      "text/plain": [
       "         date  time     sex  confirmed  deceased\n",
       "0  2020-03-02     0    male       1591        13\n",
       "1  2020-03-02     0  female       2621         9\n",
       "2  2020-03-03     0    male       1810        16\n",
       "3  2020-03-03     0  female       3002        12\n",
       "4  2020-03-04     0    male       1996        20"
      ]
     },
     "execution_count": 29,
     "metadata": {},
     "output_type": "execute_result"
    }
   ],
   "source": [
    "dataset_tg.head()"
   ]
  },
  {
   "cell_type": "code",
   "execution_count": 30,
   "metadata": {},
   "outputs": [
    {
     "data": {
      "text/plain": [
       "(242, 5)"
      ]
     },
     "execution_count": 30,
     "metadata": {},
     "output_type": "execute_result"
    }
   ],
   "source": [
    "dataset_tg.shape"
   ]
  },
  {
   "cell_type": "code",
   "execution_count": 31,
   "metadata": {},
   "outputs": [],
   "source": [
    "import random\n",
    "days_list5 = []\n",
    "while len(days_list5)<20:\n",
    "    xx = random.randint(0,242)\n",
    "    if xx%2==0:\n",
    "        days_list5.append(xx)           "
   ]
  },
  {
   "cell_type": "code",
   "execution_count": 32,
   "metadata": {},
   "outputs": [
    {
     "name": "stdout",
     "output_type": "stream",
     "text": [
      "[4229, 4872, 5270, 4185, 4163, 3946, 3430, 4256, 5061, 5061, 4680, 4643, 4549, 3799, 4297, 4215, 4333, 5450, 4829, 3200]\n",
      "[6283, 6757, 7151, 6238, 6221, 5941, 5467, 6308, 6942, 6942, 6585, 6547, 6501, 5784, 6364, 6265, 6395, 7265, 6712, 5120]\n"
     ]
    }
   ],
   "source": [
    "male_vs_female=[]\n",
    "for t in days_list5:\n",
    "    male_vs_female.append([dataset_tg['confirmed'][t],dataset_tg['confirmed'][t+1]])\n",
    "male_vs_female\n",
    "m,f = [],[]\n",
    "for t in male_vs_female:\n",
    "    m.append(t[0])\n",
    "    f.append(t[1])\n",
    "print(m)\n",
    "print(f)"
   ]
  },
  {
   "cell_type": "code",
   "execution_count": 33,
   "metadata": {},
   "outputs": [
    {
     "data": {
      "text/plain": [
       "<matplotlib.collections.PathCollection at 0x1f179809c88>"
      ]
     },
     "execution_count": 33,
     "metadata": {},
     "output_type": "execute_result"
    },
    {
     "data": {
      "image/png": "[encoded data removed]",
      "text/plain": [
       "<Figure size 432x288 with 1 Axes>"
      ]
     },
     "metadata": {
      "needs_background": "light"
     },
     "output_type": "display_data"
    }
   ],
   "source": [
    "#The dashed line shows the line x=y(when the number of males and females affected are equal) but surprisingly, 20 random\n",
    "#dates were chosen and surprisingly on every date, the number of accumulated infections among females were higher.\n",
    "bb = [1000,6500]\n",
    "aa = [1000,6500]\n",
    "plt.xlabel('Total Males affected')\n",
    "plt.ylabel('Total Females affected')\n",
    "plt.plot(aa,bb, 'r--')\n",
    "plt.scatter(m,f)"
   ]
  },
  {
   "cell_type": "code",
   "execution_count": 37,
   "metadata": {},
   "outputs": [
    {
     "name": "stdout",
     "output_type": "stream",
     "text": [
      "[137, 133, 127, 35, 140, 150, 147, 145, 58, 116, 92, 133, 151, 133, 147, 29, 122, 80, 126, 140]\n",
      "[126, 123, 116, 25, 126, 130, 129, 128, 53, 106, 82, 123, 131, 123, 130, 20, 107, 78, 112, 126]\n"
     ]
    }
   ],
   "source": [
    "days_list5 = []\n",
    "while len(days_list5)<20:\n",
    "    xx = random.randint(0,242)\n",
    "    if xx%2==0:\n",
    "        days_list5.append(xx)\n",
    "male_vs_female=[]\n",
    "for t in days_list5:\n",
    "    male_vs_female.append([dataset_tg['deceased'][t],dataset_tg['deceased'][t+1]])\n",
    "male_vs_female\n",
    "m,f = [],[]\n",
    "for t in male_vs_female:\n",
    "    m.append(t[0])\n",
    "    f.append(t[1])\n",
    "print(m)\n",
    "print(f)        "
   ]
  },
  {
   "cell_type": "code",
   "execution_count": 38,
   "metadata": {},
   "outputs": [
    {
     "data": {
      "text/plain": [
       "<matplotlib.collections.PathCollection at 0x1f179c69e48>"
      ]
     },
     "execution_count": 38,
     "metadata": {},
     "output_type": "execute_result"
    },
    {
     "data": {
      "image/png": "[encoded data removed]",
      "text/plain": [
       "<Figure size 432x288 with 1 Axes>"
      ]
     },
     "metadata": {
      "needs_background": "light"
     },
     "output_type": "display_data"
    }
   ],
   "source": [
    "# In contrast to number of infections, the number of accumulated deceased graph shifts closer to men's side.\n",
    "#IMPORTANT INSIGHT: number of infections is much higher in females but death rate in females is lower.\n",
    "bb = [1,200]\n",
    "aa = [1,200]\n",
    "plt.xlabel('Total Males deceased')\n",
    "plt.ylabel('Total Females deceased')\n",
    "plt.plot(aa,bb, 'r--')\n",
    "plt.scatter(m,f)"
   ]
  },
  {
   "cell_type": "code",
   "execution_count": 39,
   "metadata": {},
   "outputs": [],
   "source": [
    "dataset_time = pd.read_csv('Time.csv')"
   ]
  },
  {
   "cell_type": "code",
   "execution_count": 42,
   "metadata": {},
   "outputs": [
    {
     "data": {
      "text/html": [
       "<div>\n",
       "<style scoped>\n",
       "    .dataframe tbody tr th:only-of-type {\n",
       "        vertical-align: middle;\n",
       "    }\n",
       "\n",
       "    .dataframe tbody tr th {\n",
       "        vertical-align: top;\n",
       "    }\n",
       "\n",
       "    .dataframe thead th {\n",
       "        text-align: right;\n",
       "    }\n",
       "</style>\n",
       "<table border=\"1\" class=\"dataframe\">\n",
       "  <thead>\n",
       "    <tr style=\"text-align: right;\">\n",
       "      <th></th>\n",
       "      <th>date</th>\n",
       "      <th>time</th>\n",
       "      <th>test</th>\n",
       "      <th>negative</th>\n",
       "      <th>confirmed</th>\n",
       "      <th>released</th>\n",
       "      <th>deceased</th>\n",
       "    </tr>\n",
       "  </thead>\n",
       "  <tbody>\n",
       "    <tr>\n",
       "      <th>0</th>\n",
       "      <td>2020-01-20</td>\n",
       "      <td>16</td>\n",
       "      <td>1</td>\n",
       "      <td>0</td>\n",
       "      <td>1</td>\n",
       "      <td>0</td>\n",
       "      <td>0</td>\n",
       "    </tr>\n",
       "    <tr>\n",
       "      <th>1</th>\n",
       "      <td>2020-01-21</td>\n",
       "      <td>16</td>\n",
       "      <td>1</td>\n",
       "      <td>0</td>\n",
       "      <td>1</td>\n",
       "      <td>0</td>\n",
       "      <td>0</td>\n",
       "    </tr>\n",
       "    <tr>\n",
       "      <th>2</th>\n",
       "      <td>2020-01-22</td>\n",
       "      <td>16</td>\n",
       "      <td>4</td>\n",
       "      <td>3</td>\n",
       "      <td>1</td>\n",
       "      <td>0</td>\n",
       "      <td>0</td>\n",
       "    </tr>\n",
       "    <tr>\n",
       "      <th>3</th>\n",
       "      <td>2020-01-23</td>\n",
       "      <td>16</td>\n",
       "      <td>22</td>\n",
       "      <td>21</td>\n",
       "      <td>1</td>\n",
       "      <td>0</td>\n",
       "      <td>0</td>\n",
       "    </tr>\n",
       "    <tr>\n",
       "      <th>4</th>\n",
       "      <td>2020-01-24</td>\n",
       "      <td>16</td>\n",
       "      <td>27</td>\n",
       "      <td>25</td>\n",
       "      <td>2</td>\n",
       "      <td>0</td>\n",
       "      <td>0</td>\n",
       "    </tr>\n",
       "  </tbody>\n",
       "</table>\n",
       "</div>"
      ],
      "text/plain": [
       "         date  time  test  negative  confirmed  released  deceased\n",
       "0  2020-01-20    16     1         0          1         0         0\n",
       "1  2020-01-21    16     1         0          1         0         0\n",
       "2  2020-01-22    16     4         3          1         0         0\n",
       "3  2020-01-23    16    22        21          1         0         0\n",
       "4  2020-01-24    16    27        25          2         0         0"
      ]
     },
     "execution_count": 42,
     "metadata": {},
     "output_type": "execute_result"
    }
   ],
   "source": [
    "dataset_time.head() # Data collected over 163 days starting from 20th January 2020\n",
    "# dataset_time.shape"
   ]
  },
  {
   "cell_type": "code",
   "execution_count": 416,
   "metadata": {},
   "outputs": [],
   "source": [
    "day_by_day_test = [dataset_time['test'][0]]\n",
    "day_by_day_confirmed = [dataset_time['confirmed'][0]]\n",
    "day_by_day_deceased = [dataset_time['deceased'][0]]\n",
    "all_test,all_confirmed,all_deceased = [dataset_time['test'][0]],[dataset_time['confirmed'][0]],[dataset_time['deceased'][0]]\n",
    "for i in range(1,163):\n",
    "    day_by_day_test.append(dataset_time['test'][i]-dataset_time['test'][i-1])\n",
    "    day_by_day_confirmed.append(dataset_time['confirmed'][i]-dataset_time['confirmed'][i-1])\n",
    "    day_by_day_deceased.append(dataset_time['deceased'][i]-dataset_time['deceased'][i-1])\n",
    "    all_test.append(dataset_time['test'][i])\n",
    "    all_confirmed.append(dataset_time['confirmed'][i])\n",
    "    all_deceased.append(dataset_time['deceased'][i])"
   ]
  },
  {
   "cell_type": "code",
   "execution_count": 115,
   "metadata": {},
   "outputs": [
    {
     "data": {
      "image/png": "[encoded data removed]",
      "text/plain": [
       "<Figure size 1080x360 with 1 Axes>"
      ]
     },
     "metadata": {
      "needs_background": "light"
     },
     "output_type": "display_data"
    }
   ],
   "source": [
    "# sns.lineplot(x=range(163),y=day_by_day_deceased)\n",
    "plt.figure(figsize=(15,5))\n",
    "plt.plot(day_by_day_deceased)\n",
    "plt.title('COVID-19 deceased figures (daily)')\n",
    "plt.ylabel('Deceased')\n",
    "plt.xticks(ticks=[0,11,40,71,101,132] ,labels = ['Jan','Feb','Mar','Apr','May','Jun'])\n",
    "plt.show()"
   ]
  },
  {
   "cell_type": "code",
   "execution_count": 116,
   "metadata": {},
   "outputs": [
    {
     "data": {
      "image/png": "[encoded data removed]",
      "text/plain": [
       "<Figure size 1080x360 with 1 Axes>"
      ]
     },
     "metadata": {
      "needs_background": "light"
     },
     "output_type": "display_data"
    }
   ],
   "source": [
    "# sns.lineplot(x=range(163),y=day_by_day_test)\n",
    "plt.figure(figsize=(15,5))\n",
    "plt.plot(day_by_day_test)\n",
    "plt.title('COVID-19 testing figures (daily)')\n",
    "plt.ylabel('Number of tests done')\n",
    "plt.xticks(ticks=[0,11,40,71,101,132] ,labels = ['Jan','Feb','Mar','Apr','May','Jun'])\n",
    "plt.show()"
   ]
  },
  {
   "cell_type": "code",
   "execution_count": 118,
   "metadata": {},
   "outputs": [
    {
     "data": {
      "image/png": "[encoded data removed]",
      "text/plain": [
       "<Figure size 1080x360 with 1 Axes>"
      ]
     },
     "metadata": {
      "needs_background": "light"
     },
     "output_type": "display_data"
    }
   ],
   "source": [
    "# sns.lineplot(x=range(163),y=day_by_day_confirmed)\n",
    "plt.figure(figsize=(15,5))\n",
    "plt.plot(day_by_day_confirmed)\n",
    "plt.title('COVID-19 confirmed cases (daily)')\n",
    "plt.ylabel('New patients')\n",
    "plt.xticks(ticks=[0,11,40,71,101,132] ,labels = ['Jan','Feb','Mar','Apr','May','Jun'])\n",
    "plt.show()"
   ]
  },
  {
   "cell_type": "code",
   "execution_count": 63,
   "metadata": {},
   "outputs": [],
   "source": [
    "dataset_search = pd.read_csv('SearchTrend.csv')"
   ]
  },
  {
   "cell_type": "code",
   "execution_count": 64,
   "metadata": {},
   "outputs": [
    {
     "data": {
      "text/html": [
       "<div>\n",
       "<style scoped>\n",
       "    .dataframe tbody tr th:only-of-type {\n",
       "        vertical-align: middle;\n",
       "    }\n",
       "\n",
       "    .dataframe tbody tr th {\n",
       "        vertical-align: top;\n",
       "    }\n",
       "\n",
       "    .dataframe thead th {\n",
       "        text-align: right;\n",
       "    }\n",
       "</style>\n",
       "<table border=\"1\" class=\"dataframe\">\n",
       "  <thead>\n",
       "    <tr style=\"text-align: right;\">\n",
       "      <th></th>\n",
       "      <th>date</th>\n",
       "      <th>cold</th>\n",
       "      <th>flu</th>\n",
       "      <th>pneumonia</th>\n",
       "      <th>coronavirus</th>\n",
       "    </tr>\n",
       "  </thead>\n",
       "  <tbody>\n",
       "    <tr>\n",
       "      <th>0</th>\n",
       "      <td>2016-01-01</td>\n",
       "      <td>0.11663</td>\n",
       "      <td>0.05590</td>\n",
       "      <td>0.15726</td>\n",
       "      <td>0.00736</td>\n",
       "    </tr>\n",
       "    <tr>\n",
       "      <th>1</th>\n",
       "      <td>2016-01-02</td>\n",
       "      <td>0.13372</td>\n",
       "      <td>0.17135</td>\n",
       "      <td>0.20826</td>\n",
       "      <td>0.00890</td>\n",
       "    </tr>\n",
       "    <tr>\n",
       "      <th>2</th>\n",
       "      <td>2016-01-03</td>\n",
       "      <td>0.14917</td>\n",
       "      <td>0.22317</td>\n",
       "      <td>0.19326</td>\n",
       "      <td>0.00845</td>\n",
       "    </tr>\n",
       "    <tr>\n",
       "      <th>3</th>\n",
       "      <td>2016-01-04</td>\n",
       "      <td>0.17463</td>\n",
       "      <td>0.18626</td>\n",
       "      <td>0.29008</td>\n",
       "      <td>0.01145</td>\n",
       "    </tr>\n",
       "    <tr>\n",
       "      <th>4</th>\n",
       "      <td>2016-01-05</td>\n",
       "      <td>0.17226</td>\n",
       "      <td>0.15072</td>\n",
       "      <td>0.24562</td>\n",
       "      <td>0.01381</td>\n",
       "    </tr>\n",
       "  </tbody>\n",
       "</table>\n",
       "</div>"
      ],
      "text/plain": [
       "         date     cold      flu  pneumonia  coronavirus\n",
       "0  2016-01-01  0.11663  0.05590    0.15726      0.00736\n",
       "1  2016-01-02  0.13372  0.17135    0.20826      0.00890\n",
       "2  2016-01-03  0.14917  0.22317    0.19326      0.00845\n",
       "3  2016-01-04  0.17463  0.18626    0.29008      0.01145\n",
       "4  2016-01-05  0.17226  0.15072    0.24562      0.01381"
      ]
     },
     "execution_count": 64,
     "metadata": {},
     "output_type": "execute_result"
    }
   ],
   "source": [
    "dataset_search.head()"
   ]
  },
  {
   "cell_type": "code",
   "execution_count": 65,
   "metadata": {},
   "outputs": [
    {
     "data": {
      "text/plain": [
       "(1642, 5)"
      ]
     },
     "execution_count": 65,
     "metadata": {},
     "output_type": "execute_result"
    }
   ],
   "source": [
    "dataset_search.shape"
   ]
  },
  {
   "cell_type": "code",
   "execution_count": 91,
   "metadata": {},
   "outputs": [
    {
     "data": {
      "text/plain": [
       "'2019-06-30'"
      ]
     },
     "execution_count": 91,
     "metadata": {},
     "output_type": "execute_result"
    }
   ],
   "source": [
    "dataset_search['date'][1276]"
   ]
  },
  {
   "cell_type": "code",
   "execution_count": 102,
   "metadata": {},
   "outputs": [],
   "source": [
    "search_2018_cold = dataset_search.iloc[731:911,[1]].values\n",
    "#search_2018_cold\n",
    "search_2019_cold = dataset_search.iloc[1096:1276,[1]].values\n",
    "search_2020_cold = dataset_search.iloc[1461:1642,[1]].values\n",
    "\n",
    "search_2018_flu = dataset_search.iloc[731:911,[2]].values\n",
    "search_2019_flu = dataset_search.iloc[1096:1276,[2]].values\n",
    "search_2020_flu = dataset_search.iloc[1461:1642,[2]].values\n",
    "\n",
    "search_2018_pneumonia = dataset_search.iloc[731:911,[3]].values\n",
    "search_2019_pneumonia = dataset_search.iloc[1096:1276,[3]].values\n",
    "search_2020_pneumonia = dataset_search.iloc[1461:1642,[3]].values\n",
    "\n",
    "search_2018_corona = dataset_search.iloc[731:911,[4]].values\n",
    "search_2019_corona = dataset_search.iloc[1096:1276,[4]].values\n",
    "search_2020_corona = dataset_search.iloc[1461:1642,[4]].values"
   ]
  },
  {
   "cell_type": "code",
   "execution_count": 106,
   "metadata": {},
   "outputs": [
    {
     "data": {
      "text/plain": [
       "<matplotlib.legend.Legend at 0x1f17c075518>"
      ]
     },
     "execution_count": 106,
     "metadata": {},
     "output_type": "execute_result"
    },
    {
     "data": {
      "image/png": "[encoded data removed]",
      "text/plain": [
       "<Figure size 432x288 with 1 Axes>"
      ]
     },
     "metadata": {
      "needs_background": "light"
     },
     "output_type": "display_data"
    }
   ],
   "source": [
    "# NEGLICTING THE MOMENTARY OUTLIER, THE SEARCH VOLUME OF 'COLD' WAS HIGHER IN 2020 SIGNIFICANTLY\n",
    "plt.plot(search_2018_cold)\n",
    "plt.plot(search_2019_cold)\n",
    "plt.plot(search_2020_cold)\n",
    "\n",
    "plt.title('Internet search volume of the word COLD')\n",
    "plt.xlabel('Days since start of the year')\n",
    "plt.ylabel('Search Volume')\n",
    "plt.xticks(ticks=[0,32,60,91,121,152], labels=['January','February','March','April','May','June'])\n",
    "plt.legend(labels=['2018','2019','2020'])"
   ]
  },
  {
   "cell_type": "code",
   "execution_count": 107,
   "metadata": {},
   "outputs": [
    {
     "data": {
      "text/plain": [
       "<matplotlib.legend.Legend at 0x1f17ba4af60>"
      ]
     },
     "execution_count": 107,
     "metadata": {},
     "output_type": "execute_result"
    },
    {
     "data": {
      "image/png": "[encoded data removed]",
      "text/plain": [
       "<Figure size 432x288 with 1 Axes>"
      ]
     },
     "metadata": {
      "needs_background": "light"
     },
     "output_type": "display_data"
    }
   ],
   "source": [
    "# SEARCH VOLUME OF 'FLU' WAS USUAL, NO SIGNIFICANT CHANGE\n",
    "plt.plot(search_2018_flu)\n",
    "plt.plot(search_2019_flu)\n",
    "plt.plot(search_2020_flu)\n",
    "\n",
    "plt.title('Internet search volume of the word FLU')\n",
    "plt.xlabel('Days since start of the year')\n",
    "plt.ylabel('Search Volume')\n",
    "plt.xticks(ticks=[0,32,60,91,121,152], labels=['January','February','March','April','May','June'])\n",
    "plt.legend(labels=['2018','2019','2020'])"
   ]
  },
  {
   "cell_type": "code",
   "execution_count": 108,
   "metadata": {},
   "outputs": [
    {
     "data": {
      "text/plain": [
       "<matplotlib.legend.Legend at 0x1f17b4b20f0>"
      ]
     },
     "execution_count": 108,
     "metadata": {},
     "output_type": "execute_result"
    },
    {
     "data": {
      "image/png": "[encoded data removed]",
      "text/plain": [
       "<Figure size 432x288 with 1 Axes>"
      ]
     },
     "metadata": {
      "needs_background": "light"
     },
     "output_type": "display_data"
    }
   ],
   "source": [
    "# 'PNEUMONIA' WAS SEARCHED IN MUCH HIGHER VOLUME, ATLEAST 100x HIGHER\n",
    "plt.plot(search_2018_pneumonia)\n",
    "plt.plot(search_2019_pneumonia)\n",
    "plt.plot(search_2020_pneumonia)\n",
    "\n",
    "plt.title('Internet search volume of the word PNEUMONIA')\n",
    "plt.xlabel('Days since start of the year')\n",
    "plt.ylabel('Search Volume')\n",
    "plt.xticks(ticks=[0,32,60,91,121,152], labels=['January','February','March','April','May','June'])\n",
    "plt.legend(labels=['2018','2019','2020'])"
   ]
  },
  {
   "cell_type": "code",
   "execution_count": 109,
   "metadata": {},
   "outputs": [
    {
     "data": {
      "text/plain": [
       "<matplotlib.legend.Legend at 0x1f17c1c3a90>"
      ]
     },
     "execution_count": 109,
     "metadata": {},
     "output_type": "execute_result"
    },
    {
     "data": {
      "image/png": "[encoded data removed]",
      "text/plain": [
       "<Figure size 432x288 with 1 Axes>"
      ]
     },
     "metadata": {
      "needs_background": "light"
     },
     "output_type": "display_data"
    }
   ],
   "source": [
    "# 'CORONAVIRUS' SEARCHES WERE 1000x HIGHER IN VOLUME\n",
    "plt.plot(search_2018_corona)\n",
    "plt.plot(search_2019_corona)\n",
    "plt.plot(search_2020_corona)\n",
    "\n",
    "plt.title('Internet search volume of the word CORONAVIRUS')\n",
    "plt.xlabel('Days since start of the year')\n",
    "plt.ylabel('Search Volume')\n",
    "plt.xticks(ticks=[0,32,60,91,121,152], labels=['January','February','March','April','May','June'])\n",
    "plt.legend(labels=['2018','2019','2020'])"
   ]
  },
  {
   "cell_type": "code",
   "execution_count": 120,
   "metadata": {},
   "outputs": [],
   "source": [
    "dataset_case = pd.read_csv('Case.csv')"
   ]
  },
  {
   "cell_type": "code",
   "execution_count": 121,
   "metadata": {},
   "outputs": [
    {
     "data": {
      "text/html": [
       "<div>\n",
       "<style scoped>\n",
       "    .dataframe tbody tr th:only-of-type {\n",
       "        vertical-align: middle;\n",
       "    }\n",
       "\n",
       "    .dataframe tbody tr th {\n",
       "        vertical-align: top;\n",
       "    }\n",
       "\n",
       "    .dataframe thead th {\n",
       "        text-align: right;\n",
       "    }\n",
       "</style>\n",
       "<table border=\"1\" class=\"dataframe\">\n",
       "  <thead>\n",
       "    <tr style=\"text-align: right;\">\n",
       "      <th></th>\n",
       "      <th>case_id</th>\n",
       "      <th>province</th>\n",
       "      <th>city</th>\n",
       "      <th>group</th>\n",
       "      <th>infection_case</th>\n",
       "      <th>confirmed</th>\n",
       "      <th>latitude</th>\n",
       "      <th>longitude</th>\n",
       "    </tr>\n",
       "  </thead>\n",
       "  <tbody>\n",
       "    <tr>\n",
       "      <th>0</th>\n",
       "      <td>1000001</td>\n",
       "      <td>Seoul</td>\n",
       "      <td>Yongsan-gu</td>\n",
       "      <td>True</td>\n",
       "      <td>Itaewon Clubs</td>\n",
       "      <td>139</td>\n",
       "      <td>37.538621</td>\n",
       "      <td>126.992652</td>\n",
       "    </tr>\n",
       "    <tr>\n",
       "      <th>1</th>\n",
       "      <td>1000002</td>\n",
       "      <td>Seoul</td>\n",
       "      <td>Gwanak-gu</td>\n",
       "      <td>True</td>\n",
       "      <td>Richway</td>\n",
       "      <td>119</td>\n",
       "      <td>37.48208</td>\n",
       "      <td>126.901384</td>\n",
       "    </tr>\n",
       "    <tr>\n",
       "      <th>2</th>\n",
       "      <td>1000003</td>\n",
       "      <td>Seoul</td>\n",
       "      <td>Guro-gu</td>\n",
       "      <td>True</td>\n",
       "      <td>Guro-gu Call Center</td>\n",
       "      <td>95</td>\n",
       "      <td>37.508163</td>\n",
       "      <td>126.884387</td>\n",
       "    </tr>\n",
       "    <tr>\n",
       "      <th>3</th>\n",
       "      <td>1000004</td>\n",
       "      <td>Seoul</td>\n",
       "      <td>Yangcheon-gu</td>\n",
       "      <td>True</td>\n",
       "      <td>Yangcheon Table Tennis Club</td>\n",
       "      <td>43</td>\n",
       "      <td>37.546061</td>\n",
       "      <td>126.874209</td>\n",
       "    </tr>\n",
       "    <tr>\n",
       "      <th>4</th>\n",
       "      <td>1000005</td>\n",
       "      <td>Seoul</td>\n",
       "      <td>Dobong-gu</td>\n",
       "      <td>True</td>\n",
       "      <td>Day Care Center</td>\n",
       "      <td>43</td>\n",
       "      <td>37.679422</td>\n",
       "      <td>127.044374</td>\n",
       "    </tr>\n",
       "  </tbody>\n",
       "</table>\n",
       "</div>"
      ],
      "text/plain": [
       "    case_id province          city  group               infection_case  \\\n",
       "0   1000001    Seoul    Yongsan-gu   True                Itaewon Clubs   \n",
       "1   1000002    Seoul     Gwanak-gu   True                      Richway   \n",
       "2   1000003    Seoul       Guro-gu   True          Guro-gu Call Center   \n",
       "3   1000004    Seoul  Yangcheon-gu   True  Yangcheon Table Tennis Club   \n",
       "4   1000005    Seoul     Dobong-gu   True              Day Care Center   \n",
       "\n",
       "   confirmed   latitude   longitude  \n",
       "0        139  37.538621  126.992652  \n",
       "1        119   37.48208  126.901384  \n",
       "2         95  37.508163  126.884387  \n",
       "3         43  37.546061  126.874209  \n",
       "4         43  37.679422  127.044374  "
      ]
     },
     "execution_count": 121,
     "metadata": {},
     "output_type": "execute_result"
    }
   ],
   "source": [
    "dataset_case.head()"
   ]
  },
  {
   "cell_type": "code",
   "execution_count": 125,
   "metadata": {},
   "outputs": [
    {
     "data": {
      "text/plain": [
       "True     124\n",
       "False     50\n",
       "Name: group, dtype: int64"
      ]
     },
     "execution_count": 125,
     "metadata": {},
     "output_type": "execute_result"
    }
   ],
   "source": [
    "dataset_case['group'].value_counts()"
   ]
  },
  {
   "cell_type": "code",
   "execution_count": 126,
   "metadata": {},
   "outputs": [
    {
     "data": {
      "text/plain": [
       "<matplotlib.axes._subplots.AxesSubplot at 0x1f17bccbeb8>"
      ]
     },
     "execution_count": 126,
     "metadata": {},
     "output_type": "execute_result"
    },
    {
     "data": {
      "image/png": "[encoded data removed]",
      "text/plain": [
       "<Figure size 432x288 with 1 Axes>"
      ]
     },
     "metadata": {
      "needs_background": "light"
     },
     "output_type": "display_data"
    }
   ],
   "source": [
    "# Group infection rates were 2.5x higher.\n",
    "sns.barplot(x=['Group Infection' , 'Individual Infection'] , y=[124,50])"
   ]
  },
  {
   "cell_type": "code",
   "execution_count": 127,
   "metadata": {},
   "outputs": [],
   "source": [
    "dataset_policy = pd.read_csv('Policy.csv')"
   ]
  },
  {
   "cell_type": "code",
   "execution_count": 128,
   "metadata": {},
   "outputs": [
    {
     "data": {
      "text/html": [
       "<div>\n",
       "<style scoped>\n",
       "    .dataframe tbody tr th:only-of-type {\n",
       "        vertical-align: middle;\n",
       "    }\n",
       "\n",
       "    .dataframe tbody tr th {\n",
       "        vertical-align: top;\n",
       "    }\n",
       "\n",
       "    .dataframe thead th {\n",
       "        text-align: right;\n",
       "    }\n",
       "</style>\n",
       "<table border=\"1\" class=\"dataframe\">\n",
       "  <thead>\n",
       "    <tr style=\"text-align: right;\">\n",
       "      <th></th>\n",
       "      <th>policy_id</th>\n",
       "      <th>country</th>\n",
       "      <th>type</th>\n",
       "      <th>gov_policy</th>\n",
       "      <th>detail</th>\n",
       "      <th>start_date</th>\n",
       "      <th>end_date</th>\n",
       "    </tr>\n",
       "  </thead>\n",
       "  <tbody>\n",
       "    <tr>\n",
       "      <th>0</th>\n",
       "      <td>1</td>\n",
       "      <td>Korea</td>\n",
       "      <td>Alert</td>\n",
       "      <td>Infectious Disease Alert Level</td>\n",
       "      <td>Level 1 (Blue)</td>\n",
       "      <td>2020-01-03</td>\n",
       "      <td>2020-01-19</td>\n",
       "    </tr>\n",
       "    <tr>\n",
       "      <th>1</th>\n",
       "      <td>2</td>\n",
       "      <td>Korea</td>\n",
       "      <td>Alert</td>\n",
       "      <td>Infectious Disease Alert Level</td>\n",
       "      <td>Level 2 (Yellow)</td>\n",
       "      <td>2020-01-20</td>\n",
       "      <td>2020-01-27</td>\n",
       "    </tr>\n",
       "    <tr>\n",
       "      <th>2</th>\n",
       "      <td>3</td>\n",
       "      <td>Korea</td>\n",
       "      <td>Alert</td>\n",
       "      <td>Infectious Disease Alert Level</td>\n",
       "      <td>Level 3 (Orange)</td>\n",
       "      <td>2020-01-28</td>\n",
       "      <td>2020-02-22</td>\n",
       "    </tr>\n",
       "    <tr>\n",
       "      <th>3</th>\n",
       "      <td>4</td>\n",
       "      <td>Korea</td>\n",
       "      <td>Alert</td>\n",
       "      <td>Infectious Disease Alert Level</td>\n",
       "      <td>Level 4 (Red)</td>\n",
       "      <td>2020-02-23</td>\n",
       "      <td>NaN</td>\n",
       "    </tr>\n",
       "    <tr>\n",
       "      <th>4</th>\n",
       "      <td>5</td>\n",
       "      <td>Korea</td>\n",
       "      <td>Immigration</td>\n",
       "      <td>Special Immigration Procedure</td>\n",
       "      <td>from China</td>\n",
       "      <td>2020-02-04</td>\n",
       "      <td>NaN</td>\n",
       "    </tr>\n",
       "    <tr>\n",
       "      <th>5</th>\n",
       "      <td>6</td>\n",
       "      <td>Korea</td>\n",
       "      <td>Immigration</td>\n",
       "      <td>Special Immigration Procedure</td>\n",
       "      <td>from Hong Kong</td>\n",
       "      <td>2020-02-12</td>\n",
       "      <td>NaN</td>\n",
       "    </tr>\n",
       "    <tr>\n",
       "      <th>6</th>\n",
       "      <td>7</td>\n",
       "      <td>Korea</td>\n",
       "      <td>Immigration</td>\n",
       "      <td>Special Immigration Procedure</td>\n",
       "      <td>from Macau</td>\n",
       "      <td>2020-02-12</td>\n",
       "      <td>NaN</td>\n",
       "    </tr>\n",
       "    <tr>\n",
       "      <th>7</th>\n",
       "      <td>8</td>\n",
       "      <td>Korea</td>\n",
       "      <td>Immigration</td>\n",
       "      <td>Special Immigration Procedure</td>\n",
       "      <td>from Japan</td>\n",
       "      <td>2020-03-09</td>\n",
       "      <td>NaN</td>\n",
       "    </tr>\n",
       "    <tr>\n",
       "      <th>8</th>\n",
       "      <td>9</td>\n",
       "      <td>Korea</td>\n",
       "      <td>Immigration</td>\n",
       "      <td>Special Immigration Procedure</td>\n",
       "      <td>from Italy</td>\n",
       "      <td>2020-03-12</td>\n",
       "      <td>NaN</td>\n",
       "    </tr>\n",
       "    <tr>\n",
       "      <th>9</th>\n",
       "      <td>10</td>\n",
       "      <td>Korea</td>\n",
       "      <td>Immigration</td>\n",
       "      <td>Special Immigration Procedure</td>\n",
       "      <td>from Iran</td>\n",
       "      <td>2020-03-12</td>\n",
       "      <td>NaN</td>\n",
       "    </tr>\n",
       "  </tbody>\n",
       "</table>\n",
       "</div>"
      ],
      "text/plain": [
       "   policy_id country         type                      gov_policy  \\\n",
       "0          1   Korea        Alert  Infectious Disease Alert Level   \n",
       "1          2   Korea        Alert  Infectious Disease Alert Level   \n",
       "2          3   Korea        Alert  Infectious Disease Alert Level   \n",
       "3          4   Korea        Alert  Infectious Disease Alert Level   \n",
       "4          5   Korea  Immigration   Special Immigration Procedure   \n",
       "5          6   Korea  Immigration   Special Immigration Procedure   \n",
       "6          7   Korea  Immigration   Special Immigration Procedure   \n",
       "7          8   Korea  Immigration   Special Immigration Procedure   \n",
       "8          9   Korea  Immigration   Special Immigration Procedure   \n",
       "9         10   Korea  Immigration   Special Immigration Procedure   \n",
       "\n",
       "             detail  start_date    end_date  \n",
       "0    Level 1 (Blue)  2020-01-03  2020-01-19  \n",
       "1  Level 2 (Yellow)  2020-01-20  2020-01-27  \n",
       "2  Level 3 (Orange)  2020-01-28  2020-02-22  \n",
       "3     Level 4 (Red)  2020-02-23         NaN  \n",
       "4        from China  2020-02-04         NaN  \n",
       "5    from Hong Kong  2020-02-12         NaN  \n",
       "6        from Macau  2020-02-12         NaN  \n",
       "7        from Japan  2020-03-09         NaN  \n",
       "8        from Italy  2020-03-12         NaN  \n",
       "9         from Iran  2020-03-12         NaN  "
      ]
     },
     "execution_count": 128,
     "metadata": {},
     "output_type": "execute_result"
    }
   ],
   "source": [
    "dataset_policy.head(10)"
   ]
  },
  {
   "cell_type": "code",
   "execution_count": 131,
   "metadata": {},
   "outputs": [
    {
     "data": {
      "text/plain": [
       "(61, 7)"
      ]
     },
     "execution_count": 131,
     "metadata": {},
     "output_type": "execute_result"
    }
   ],
   "source": [
    "# dataset_policy.info()\n",
    "# dataset_policy['type'].value_counts()\n",
    "dataset_policy.shape"
   ]
  },
  {
   "cell_type": "code",
   "execution_count": 138,
   "metadata": {},
   "outputs": [
    {
     "data": {
      "text/html": [
       "<div>\n",
       "<style scoped>\n",
       "    .dataframe tbody tr th:only-of-type {\n",
       "        vertical-align: middle;\n",
       "    }\n",
       "\n",
       "    .dataframe tbody tr th {\n",
       "        vertical-align: top;\n",
       "    }\n",
       "\n",
       "    .dataframe thead th {\n",
       "        text-align: right;\n",
       "    }\n",
       "</style>\n",
       "<table border=\"1\" class=\"dataframe\">\n",
       "  <thead>\n",
       "    <tr style=\"text-align: right;\">\n",
       "      <th></th>\n",
       "      <th>policy_id</th>\n",
       "      <th>country</th>\n",
       "      <th>type</th>\n",
       "      <th>gov_policy</th>\n",
       "      <th>detail</th>\n",
       "      <th>start_date</th>\n",
       "      <th>end_date</th>\n",
       "    </tr>\n",
       "  </thead>\n",
       "  <tbody>\n",
       "    <tr>\n",
       "      <th>0</th>\n",
       "      <td>1</td>\n",
       "      <td>Korea</td>\n",
       "      <td>Alert</td>\n",
       "      <td>Infectious Disease Alert Level</td>\n",
       "      <td>Level 1 (Blue)</td>\n",
       "      <td>2020-01-03</td>\n",
       "      <td>2020-01-19</td>\n",
       "    </tr>\n",
       "    <tr>\n",
       "      <th>1</th>\n",
       "      <td>2</td>\n",
       "      <td>Korea</td>\n",
       "      <td>Alert</td>\n",
       "      <td>Infectious Disease Alert Level</td>\n",
       "      <td>Level 2 (Yellow)</td>\n",
       "      <td>2020-01-20</td>\n",
       "      <td>2020-01-27</td>\n",
       "    </tr>\n",
       "    <tr>\n",
       "      <th>2</th>\n",
       "      <td>3</td>\n",
       "      <td>Korea</td>\n",
       "      <td>Alert</td>\n",
       "      <td>Infectious Disease Alert Level</td>\n",
       "      <td>Level 3 (Orange)</td>\n",
       "      <td>2020-01-28</td>\n",
       "      <td>2020-02-22</td>\n",
       "    </tr>\n",
       "    <tr>\n",
       "      <th>3</th>\n",
       "      <td>4</td>\n",
       "      <td>Korea</td>\n",
       "      <td>Alert</td>\n",
       "      <td>Infectious Disease Alert Level</td>\n",
       "      <td>Level 4 (Red)</td>\n",
       "      <td>2020-02-23</td>\n",
       "      <td>NaN</td>\n",
       "    </tr>\n",
       "    <tr>\n",
       "      <th>4</th>\n",
       "      <td>5</td>\n",
       "      <td>Korea</td>\n",
       "      <td>Immigration</td>\n",
       "      <td>Special Immigration Procedure</td>\n",
       "      <td>from China</td>\n",
       "      <td>2020-02-04</td>\n",
       "      <td>NaN</td>\n",
       "    </tr>\n",
       "    <tr>\n",
       "      <th>5</th>\n",
       "      <td>6</td>\n",
       "      <td>Korea</td>\n",
       "      <td>Immigration</td>\n",
       "      <td>Special Immigration Procedure</td>\n",
       "      <td>from Hong Kong</td>\n",
       "      <td>2020-02-12</td>\n",
       "      <td>NaN</td>\n",
       "    </tr>\n",
       "    <tr>\n",
       "      <th>6</th>\n",
       "      <td>7</td>\n",
       "      <td>Korea</td>\n",
       "      <td>Immigration</td>\n",
       "      <td>Special Immigration Procedure</td>\n",
       "      <td>from Macau</td>\n",
       "      <td>2020-02-12</td>\n",
       "      <td>NaN</td>\n",
       "    </tr>\n",
       "    <tr>\n",
       "      <th>7</th>\n",
       "      <td>8</td>\n",
       "      <td>Korea</td>\n",
       "      <td>Immigration</td>\n",
       "      <td>Special Immigration Procedure</td>\n",
       "      <td>from Japan</td>\n",
       "      <td>2020-03-09</td>\n",
       "      <td>NaN</td>\n",
       "    </tr>\n",
       "    <tr>\n",
       "      <th>8</th>\n",
       "      <td>9</td>\n",
       "      <td>Korea</td>\n",
       "      <td>Immigration</td>\n",
       "      <td>Special Immigration Procedure</td>\n",
       "      <td>from Italy</td>\n",
       "      <td>2020-03-12</td>\n",
       "      <td>NaN</td>\n",
       "    </tr>\n",
       "    <tr>\n",
       "      <th>9</th>\n",
       "      <td>10</td>\n",
       "      <td>Korea</td>\n",
       "      <td>Immigration</td>\n",
       "      <td>Special Immigration Procedure</td>\n",
       "      <td>from Iran</td>\n",
       "      <td>2020-03-12</td>\n",
       "      <td>NaN</td>\n",
       "    </tr>\n",
       "    <tr>\n",
       "      <th>10</th>\n",
       "      <td>11</td>\n",
       "      <td>Korea</td>\n",
       "      <td>Immigration</td>\n",
       "      <td>Special Immigration Procedure</td>\n",
       "      <td>from France</td>\n",
       "      <td>2020-03-15</td>\n",
       "      <td>NaN</td>\n",
       "    </tr>\n",
       "    <tr>\n",
       "      <th>11</th>\n",
       "      <td>12</td>\n",
       "      <td>Korea</td>\n",
       "      <td>Immigration</td>\n",
       "      <td>Special Immigration Procedure</td>\n",
       "      <td>from Germany</td>\n",
       "      <td>2020-03-15</td>\n",
       "      <td>NaN</td>\n",
       "    </tr>\n",
       "    <tr>\n",
       "      <th>12</th>\n",
       "      <td>13</td>\n",
       "      <td>Korea</td>\n",
       "      <td>Immigration</td>\n",
       "      <td>Special Immigration Procedure</td>\n",
       "      <td>from Spain</td>\n",
       "      <td>2020-03-15</td>\n",
       "      <td>NaN</td>\n",
       "    </tr>\n",
       "    <tr>\n",
       "      <th>13</th>\n",
       "      <td>14</td>\n",
       "      <td>Korea</td>\n",
       "      <td>Immigration</td>\n",
       "      <td>Special Immigration Procedure</td>\n",
       "      <td>from U.K.</td>\n",
       "      <td>2020-03-15</td>\n",
       "      <td>NaN</td>\n",
       "    </tr>\n",
       "    <tr>\n",
       "      <th>14</th>\n",
       "      <td>15</td>\n",
       "      <td>Korea</td>\n",
       "      <td>Immigration</td>\n",
       "      <td>Special Immigration Procedure</td>\n",
       "      <td>from Netherlands</td>\n",
       "      <td>2020-03-15</td>\n",
       "      <td>NaN</td>\n",
       "    </tr>\n",
       "    <tr>\n",
       "      <th>15</th>\n",
       "      <td>16</td>\n",
       "      <td>Korea</td>\n",
       "      <td>Immigration</td>\n",
       "      <td>Special Immigration Procedure</td>\n",
       "      <td>from Europe</td>\n",
       "      <td>2020-03-16</td>\n",
       "      <td>NaN</td>\n",
       "    </tr>\n",
       "    <tr>\n",
       "      <th>16</th>\n",
       "      <td>17</td>\n",
       "      <td>Korea</td>\n",
       "      <td>Immigration</td>\n",
       "      <td>Special Immigration Procedure</td>\n",
       "      <td>from all the countries</td>\n",
       "      <td>2020-03-19</td>\n",
       "      <td>NaN</td>\n",
       "    </tr>\n",
       "    <tr>\n",
       "      <th>17</th>\n",
       "      <td>18</td>\n",
       "      <td>Korea</td>\n",
       "      <td>Immigration</td>\n",
       "      <td>Mandatory 14-day Self-Quarantine</td>\n",
       "      <td>from all the countries</td>\n",
       "      <td>2020-04-01</td>\n",
       "      <td>NaN</td>\n",
       "    </tr>\n",
       "    <tr>\n",
       "      <th>18</th>\n",
       "      <td>19</td>\n",
       "      <td>Korea</td>\n",
       "      <td>Immigration</td>\n",
       "      <td>Mandatory Self-Quarantine &amp; Diagonostic Tests</td>\n",
       "      <td>from U.S.</td>\n",
       "      <td>2020-04-13</td>\n",
       "      <td>NaN</td>\n",
       "    </tr>\n",
       "    <tr>\n",
       "      <th>19</th>\n",
       "      <td>20</td>\n",
       "      <td>Korea</td>\n",
       "      <td>Health</td>\n",
       "      <td>Emergency Use Authorization of Diagnostic Kit</td>\n",
       "      <td>1st EUA</td>\n",
       "      <td>2020-02-04</td>\n",
       "      <td>NaN</td>\n",
       "    </tr>\n",
       "    <tr>\n",
       "      <th>20</th>\n",
       "      <td>21</td>\n",
       "      <td>Korea</td>\n",
       "      <td>Health</td>\n",
       "      <td>Emergency Use Authorization of Diagnostic Kit</td>\n",
       "      <td>2nd EUA</td>\n",
       "      <td>2020-02-12</td>\n",
       "      <td>NaN</td>\n",
       "    </tr>\n",
       "    <tr>\n",
       "      <th>21</th>\n",
       "      <td>22</td>\n",
       "      <td>Korea</td>\n",
       "      <td>Health</td>\n",
       "      <td>Emergency Use Authorization of Diagnostic Kit</td>\n",
       "      <td>3rd EUA</td>\n",
       "      <td>2020-02-27</td>\n",
       "      <td>NaN</td>\n",
       "    </tr>\n",
       "    <tr>\n",
       "      <th>22</th>\n",
       "      <td>23</td>\n",
       "      <td>Korea</td>\n",
       "      <td>Health</td>\n",
       "      <td>Emergency Use Authorization of Diagnostic Kit</td>\n",
       "      <td>4th EUA</td>\n",
       "      <td>2020-02-27</td>\n",
       "      <td>NaN</td>\n",
       "    </tr>\n",
       "    <tr>\n",
       "      <th>23</th>\n",
       "      <td>24</td>\n",
       "      <td>Korea</td>\n",
       "      <td>Health</td>\n",
       "      <td>Emergency Use Authorization of Diagnostic Kit</td>\n",
       "      <td>5th EUA</td>\n",
       "      <td>2020-03-13</td>\n",
       "      <td>NaN</td>\n",
       "    </tr>\n",
       "    <tr>\n",
       "      <th>24</th>\n",
       "      <td>25</td>\n",
       "      <td>Korea</td>\n",
       "      <td>Health</td>\n",
       "      <td>Drive-Through Screening Center</td>\n",
       "      <td>by Local Government</td>\n",
       "      <td>2020-02-26</td>\n",
       "      <td>NaN</td>\n",
       "    </tr>\n",
       "    <tr>\n",
       "      <th>25</th>\n",
       "      <td>26</td>\n",
       "      <td>Korea</td>\n",
       "      <td>Health</td>\n",
       "      <td>Drive-Through Screening Center</td>\n",
       "      <td>Standard Operating Procedures</td>\n",
       "      <td>2020-03-04</td>\n",
       "      <td>NaN</td>\n",
       "    </tr>\n",
       "    <tr>\n",
       "      <th>26</th>\n",
       "      <td>27</td>\n",
       "      <td>Korea</td>\n",
       "      <td>Health</td>\n",
       "      <td>Mask Distribution</td>\n",
       "      <td>Public-Sale</td>\n",
       "      <td>2020-02-27</td>\n",
       "      <td>NaN</td>\n",
       "    </tr>\n",
       "    <tr>\n",
       "      <th>27</th>\n",
       "      <td>28</td>\n",
       "      <td>Korea</td>\n",
       "      <td>Health</td>\n",
       "      <td>Mask Distribution</td>\n",
       "      <td>5-day Rotation System</td>\n",
       "      <td>2020-03-09</td>\n",
       "      <td>NaN</td>\n",
       "    </tr>\n",
       "    <tr>\n",
       "      <th>28</th>\n",
       "      <td>29</td>\n",
       "      <td>Korea</td>\n",
       "      <td>Social</td>\n",
       "      <td>Social Distancing Campaign</td>\n",
       "      <td>Strong</td>\n",
       "      <td>2020-02-29</td>\n",
       "      <td>2020-03-21</td>\n",
       "    </tr>\n",
       "    <tr>\n",
       "      <th>29</th>\n",
       "      <td>30</td>\n",
       "      <td>Korea</td>\n",
       "      <td>Social</td>\n",
       "      <td>Social Distancing Campaign</td>\n",
       "      <td>Strong</td>\n",
       "      <td>2020-03-22</td>\n",
       "      <td>2020-04-19</td>\n",
       "    </tr>\n",
       "    <tr>\n",
       "      <th>...</th>\n",
       "      <td>...</td>\n",
       "      <td>...</td>\n",
       "      <td>...</td>\n",
       "      <td>...</td>\n",
       "      <td>...</td>\n",
       "      <td>...</td>\n",
       "      <td>...</td>\n",
       "    </tr>\n",
       "    <tr>\n",
       "      <th>31</th>\n",
       "      <td>32</td>\n",
       "      <td>Korea</td>\n",
       "      <td>Social</td>\n",
       "      <td>Social Distancing Campaign</td>\n",
       "      <td>Weak(1st)</td>\n",
       "      <td>2020-05-06</td>\n",
       "      <td>NaN</td>\n",
       "    </tr>\n",
       "    <tr>\n",
       "      <th>32</th>\n",
       "      <td>33</td>\n",
       "      <td>Korea</td>\n",
       "      <td>Social</td>\n",
       "      <td>Thanks to Challenge korea</td>\n",
       "      <td>Relay Cheer Campaign in SNS</td>\n",
       "      <td>2020-04-16</td>\n",
       "      <td>NaN</td>\n",
       "    </tr>\n",
       "    <tr>\n",
       "      <th>33</th>\n",
       "      <td>34</td>\n",
       "      <td>Korea</td>\n",
       "      <td>Education</td>\n",
       "      <td>School Closure</td>\n",
       "      <td>Daycare Center for Children</td>\n",
       "      <td>2020-03-02</td>\n",
       "      <td>NaN</td>\n",
       "    </tr>\n",
       "    <tr>\n",
       "      <th>34</th>\n",
       "      <td>35</td>\n",
       "      <td>Korea</td>\n",
       "      <td>Education</td>\n",
       "      <td>School Opening Delay</td>\n",
       "      <td>Kindergarten</td>\n",
       "      <td>2020-03-02</td>\n",
       "      <td>2020-04-06</td>\n",
       "    </tr>\n",
       "    <tr>\n",
       "      <th>35</th>\n",
       "      <td>36</td>\n",
       "      <td>Korea</td>\n",
       "      <td>Education</td>\n",
       "      <td>School Opening Delay</td>\n",
       "      <td>High School</td>\n",
       "      <td>2020-03-02</td>\n",
       "      <td>2020-04-06</td>\n",
       "    </tr>\n",
       "    <tr>\n",
       "      <th>36</th>\n",
       "      <td>37</td>\n",
       "      <td>Korea</td>\n",
       "      <td>Education</td>\n",
       "      <td>School Opening Delay</td>\n",
       "      <td>Middle School</td>\n",
       "      <td>2020-03-02</td>\n",
       "      <td>2020-04-06</td>\n",
       "    </tr>\n",
       "    <tr>\n",
       "      <th>37</th>\n",
       "      <td>38</td>\n",
       "      <td>Korea</td>\n",
       "      <td>Education</td>\n",
       "      <td>School Opening Delay</td>\n",
       "      <td>Elementary School</td>\n",
       "      <td>2020-03-02</td>\n",
       "      <td>2020-04-06</td>\n",
       "    </tr>\n",
       "    <tr>\n",
       "      <th>38</th>\n",
       "      <td>39</td>\n",
       "      <td>Korea</td>\n",
       "      <td>Education</td>\n",
       "      <td>School Opening with Online Class</td>\n",
       "      <td>High School (3rd grade)</td>\n",
       "      <td>2020-04-09</td>\n",
       "      <td>2020-05-20</td>\n",
       "    </tr>\n",
       "    <tr>\n",
       "      <th>39</th>\n",
       "      <td>40</td>\n",
       "      <td>Korea</td>\n",
       "      <td>Education</td>\n",
       "      <td>School Opening with Online Class</td>\n",
       "      <td>High School (2nd grade)</td>\n",
       "      <td>2020-04-16</td>\n",
       "      <td>2020-05-27</td>\n",
       "    </tr>\n",
       "    <tr>\n",
       "      <th>40</th>\n",
       "      <td>41</td>\n",
       "      <td>Korea</td>\n",
       "      <td>Education</td>\n",
       "      <td>School Opening with Online Class</td>\n",
       "      <td>High School (1st grade)</td>\n",
       "      <td>2020-04-16</td>\n",
       "      <td>2020-06-03</td>\n",
       "    </tr>\n",
       "    <tr>\n",
       "      <th>41</th>\n",
       "      <td>42</td>\n",
       "      <td>Korea</td>\n",
       "      <td>Education</td>\n",
       "      <td>School Opening with Online Class</td>\n",
       "      <td>Middle School (3rd grade)</td>\n",
       "      <td>2020-04-09</td>\n",
       "      <td>2020-05-27</td>\n",
       "    </tr>\n",
       "    <tr>\n",
       "      <th>42</th>\n",
       "      <td>43</td>\n",
       "      <td>Korea</td>\n",
       "      <td>Education</td>\n",
       "      <td>School Opening with Online Class</td>\n",
       "      <td>Middle School (2nd grade)</td>\n",
       "      <td>2020-04-16</td>\n",
       "      <td>2020-06-03</td>\n",
       "    </tr>\n",
       "    <tr>\n",
       "      <th>43</th>\n",
       "      <td>44</td>\n",
       "      <td>Korea</td>\n",
       "      <td>Education</td>\n",
       "      <td>School Opening with Online Class</td>\n",
       "      <td>Middle School (1st grade)</td>\n",
       "      <td>2020-04-16</td>\n",
       "      <td>2020-06-08</td>\n",
       "    </tr>\n",
       "    <tr>\n",
       "      <th>44</th>\n",
       "      <td>45</td>\n",
       "      <td>Korea</td>\n",
       "      <td>Education</td>\n",
       "      <td>School Opening with Online Class</td>\n",
       "      <td>Elementary School (5th ~ 6th grade)</td>\n",
       "      <td>2020-04-16</td>\n",
       "      <td>2020-06-08</td>\n",
       "    </tr>\n",
       "    <tr>\n",
       "      <th>45</th>\n",
       "      <td>46</td>\n",
       "      <td>Korea</td>\n",
       "      <td>Education</td>\n",
       "      <td>School Opening with Online Class</td>\n",
       "      <td>Elementary School (4th grade)</td>\n",
       "      <td>2020-04-16</td>\n",
       "      <td>2020-06-03</td>\n",
       "    </tr>\n",
       "    <tr>\n",
       "      <th>46</th>\n",
       "      <td>47</td>\n",
       "      <td>Korea</td>\n",
       "      <td>Education</td>\n",
       "      <td>School Opening with Online Class</td>\n",
       "      <td>Elementary School (3rd grade)</td>\n",
       "      <td>2020-04-20</td>\n",
       "      <td>2020-06-03</td>\n",
       "    </tr>\n",
       "    <tr>\n",
       "      <th>47</th>\n",
       "      <td>48</td>\n",
       "      <td>Korea</td>\n",
       "      <td>Education</td>\n",
       "      <td>School Opening with Online Class</td>\n",
       "      <td>Elementary School (1st ~ 2nd grade)</td>\n",
       "      <td>2020-04-20</td>\n",
       "      <td>2020-05-27</td>\n",
       "    </tr>\n",
       "    <tr>\n",
       "      <th>48</th>\n",
       "      <td>49</td>\n",
       "      <td>Korea</td>\n",
       "      <td>Technology</td>\n",
       "      <td>Open Data</td>\n",
       "      <td>Patients Information</td>\n",
       "      <td>2020-01-20</td>\n",
       "      <td>NaN</td>\n",
       "    </tr>\n",
       "    <tr>\n",
       "      <th>49</th>\n",
       "      <td>50</td>\n",
       "      <td>Korea</td>\n",
       "      <td>Technology</td>\n",
       "      <td>Open API</td>\n",
       "      <td>Public Mask Sales Information</td>\n",
       "      <td>2020-03-08</td>\n",
       "      <td>NaN</td>\n",
       "    </tr>\n",
       "    <tr>\n",
       "      <th>50</th>\n",
       "      <td>51</td>\n",
       "      <td>Korea</td>\n",
       "      <td>Technology</td>\n",
       "      <td>Self-Diagnosis App</td>\n",
       "      <td>NaN</td>\n",
       "      <td>2020-02-12</td>\n",
       "      <td>NaN</td>\n",
       "    </tr>\n",
       "    <tr>\n",
       "      <th>51</th>\n",
       "      <td>52</td>\n",
       "      <td>Korea</td>\n",
       "      <td>Technology</td>\n",
       "      <td>Self-Quarantine Safety Protection App</td>\n",
       "      <td>NaN</td>\n",
       "      <td>2020-03-07</td>\n",
       "      <td>NaN</td>\n",
       "    </tr>\n",
       "    <tr>\n",
       "      <th>52</th>\n",
       "      <td>53</td>\n",
       "      <td>Korea</td>\n",
       "      <td>Technology</td>\n",
       "      <td>Electronic Wristbands</td>\n",
       "      <td>on people who violate self-quarantine measures</td>\n",
       "      <td>2020-04-27</td>\n",
       "      <td>NaN</td>\n",
       "    </tr>\n",
       "    <tr>\n",
       "      <th>53</th>\n",
       "      <td>54</td>\n",
       "      <td>Korea</td>\n",
       "      <td>Administrative</td>\n",
       "      <td>Close bars and clubs</td>\n",
       "      <td>administrative order to close bars and clubs</td>\n",
       "      <td>2020-05-08</td>\n",
       "      <td>2020-06-07</td>\n",
       "    </tr>\n",
       "    <tr>\n",
       "      <th>54</th>\n",
       "      <td>55</td>\n",
       "      <td>Korea</td>\n",
       "      <td>Administrative</td>\n",
       "      <td>local government Administrative orders</td>\n",
       "      <td>Gathering limited administrative orders for nu...</td>\n",
       "      <td>2020-05-16</td>\n",
       "      <td>NaN</td>\n",
       "    </tr>\n",
       "    <tr>\n",
       "      <th>55</th>\n",
       "      <td>56</td>\n",
       "      <td>Korea</td>\n",
       "      <td>Administrative</td>\n",
       "      <td>Close karaoke</td>\n",
       "      <td>Ban on gathering for 2 weeks for all karaoke a...</td>\n",
       "      <td>2020-05-21</td>\n",
       "      <td>2020-06-03</td>\n",
       "    </tr>\n",
       "    <tr>\n",
       "      <th>56</th>\n",
       "      <td>57</td>\n",
       "      <td>Korea</td>\n",
       "      <td>Transformation</td>\n",
       "      <td>Logistics center</td>\n",
       "      <td>On-site inspection of major logistics faciliti...</td>\n",
       "      <td>2020-05-29</td>\n",
       "      <td>2020-06-11</td>\n",
       "    </tr>\n",
       "    <tr>\n",
       "      <th>57</th>\n",
       "      <td>58</td>\n",
       "      <td>Korea</td>\n",
       "      <td>Transformation</td>\n",
       "      <td>Wearing of masks</td>\n",
       "      <td>Mandatory wearing of passenger mask domestic, ...</td>\n",
       "      <td>2020-05-27</td>\n",
       "      <td>NaN</td>\n",
       "    </tr>\n",
       "    <tr>\n",
       "      <th>58</th>\n",
       "      <td>59</td>\n",
       "      <td>Korea</td>\n",
       "      <td>Transformation</td>\n",
       "      <td>Wearing of masks</td>\n",
       "      <td>Drivers such as buses and taxis can refuse to ...</td>\n",
       "      <td>2020-05-26</td>\n",
       "      <td>NaN</td>\n",
       "    </tr>\n",
       "    <tr>\n",
       "      <th>59</th>\n",
       "      <td>60</td>\n",
       "      <td>Korea</td>\n",
       "      <td>Technology</td>\n",
       "      <td>KI-Pass: Korea Internet - Pass</td>\n",
       "      <td>new quick response (QR) code system this week ...</td>\n",
       "      <td>2020-06-10</td>\n",
       "      <td>NaN</td>\n",
       "    </tr>\n",
       "    <tr>\n",
       "      <th>60</th>\n",
       "      <td>61</td>\n",
       "      <td>Korea</td>\n",
       "      <td>Health</td>\n",
       "      <td>Extends Tightened Quarantine Measures</td>\n",
       "      <td>Gov't Extends Tightened Quarantine Measures in...</td>\n",
       "      <td>2020-05-28</td>\n",
       "      <td>2020-06-14</td>\n",
       "    </tr>\n",
       "  </tbody>\n",
       "</table>\n",
       "<p>61 rows × 7 columns</p>\n",
       "</div>"
      ],
      "text/plain": [
       "    policy_id country            type  \\\n",
       "0           1   Korea           Alert   \n",
       "1           2   Korea           Alert   \n",
       "2           3   Korea           Alert   \n",
       "3           4   Korea           Alert   \n",
       "4           5   Korea     Immigration   \n",
       "5           6   Korea     Immigration   \n",
       "6           7   Korea     Immigration   \n",
       "7           8   Korea     Immigration   \n",
       "8           9   Korea     Immigration   \n",
       "9          10   Korea     Immigration   \n",
       "10         11   Korea     Immigration   \n",
       "11         12   Korea     Immigration   \n",
       "12         13   Korea     Immigration   \n",
       "13         14   Korea     Immigration   \n",
       "14         15   Korea     Immigration   \n",
       "15         16   Korea     Immigration   \n",
       "16         17   Korea     Immigration   \n",
       "17         18   Korea     Immigration   \n",
       "18         19   Korea     Immigration   \n",
       "19         20   Korea          Health   \n",
       "20         21   Korea          Health   \n",
       "21         22   Korea          Health   \n",
       "22         23   Korea          Health   \n",
       "23         24   Korea          Health   \n",
       "24         25   Korea          Health   \n",
       "25         26   Korea          Health   \n",
       "26         27   Korea          Health   \n",
       "27         28   Korea          Health   \n",
       "28         29   Korea          Social   \n",
       "29         30   Korea          Social   \n",
       "..        ...     ...             ...   \n",
       "31         32   Korea          Social   \n",
       "32         33   Korea          Social   \n",
       "33         34   Korea       Education   \n",
       "34         35   Korea       Education   \n",
       "35         36   Korea       Education   \n",
       "36         37   Korea       Education   \n",
       "37         38   Korea       Education   \n",
       "38         39   Korea       Education   \n",
       "39         40   Korea       Education   \n",
       "40         41   Korea       Education   \n",
       "41         42   Korea       Education   \n",
       "42         43   Korea       Education   \n",
       "43         44   Korea       Education   \n",
       "44         45   Korea       Education   \n",
       "45         46   Korea       Education   \n",
       "46         47   Korea       Education   \n",
       "47         48   Korea       Education   \n",
       "48         49   Korea      Technology   \n",
       "49         50   Korea      Technology   \n",
       "50         51   Korea      Technology   \n",
       "51         52   Korea      Technology   \n",
       "52         53   Korea      Technology   \n",
       "53         54   Korea  Administrative   \n",
       "54         55   Korea  Administrative   \n",
       "55         56   Korea  Administrative   \n",
       "56         57   Korea  Transformation   \n",
       "57         58   Korea  Transformation   \n",
       "58         59   Korea  Transformation   \n",
       "59         60   Korea      Technology   \n",
       "60         61   Korea          Health   \n",
       "\n",
       "                                       gov_policy  \\\n",
       "0                  Infectious Disease Alert Level   \n",
       "1                  Infectious Disease Alert Level   \n",
       "2                  Infectious Disease Alert Level   \n",
       "3                  Infectious Disease Alert Level   \n",
       "4                   Special Immigration Procedure   \n",
       "5                   Special Immigration Procedure   \n",
       "6                   Special Immigration Procedure   \n",
       "7                   Special Immigration Procedure   \n",
       "8                   Special Immigration Procedure   \n",
       "9                   Special Immigration Procedure   \n",
       "10                  Special Immigration Procedure   \n",
       "11                  Special Immigration Procedure   \n",
       "12                  Special Immigration Procedure   \n",
       "13                  Special Immigration Procedure   \n",
       "14                  Special Immigration Procedure   \n",
       "15                  Special Immigration Procedure   \n",
       "16                  Special Immigration Procedure   \n",
       "17               Mandatory 14-day Self-Quarantine   \n",
       "18  Mandatory Self-Quarantine & Diagonostic Tests   \n",
       "19  Emergency Use Authorization of Diagnostic Kit   \n",
       "20  Emergency Use Authorization of Diagnostic Kit   \n",
       "21  Emergency Use Authorization of Diagnostic Kit   \n",
       "22  Emergency Use Authorization of Diagnostic Kit   \n",
       "23  Emergency Use Authorization of Diagnostic Kit   \n",
       "24                 Drive-Through Screening Center   \n",
       "25                 Drive-Through Screening Center   \n",
       "26                              Mask Distribution   \n",
       "27                              Mask Distribution   \n",
       "28                     Social Distancing Campaign   \n",
       "29                     Social Distancing Campaign   \n",
       "..                                            ...   \n",
       "31                     Social Distancing Campaign   \n",
       "32                      Thanks to Challenge korea   \n",
       "33                                 School Closure   \n",
       "34                           School Opening Delay   \n",
       "35                           School Opening Delay   \n",
       "36                           School Opening Delay   \n",
       "37                           School Opening Delay   \n",
       "38               School Opening with Online Class   \n",
       "39               School Opening with Online Class   \n",
       "40               School Opening with Online Class   \n",
       "41               School Opening with Online Class   \n",
       "42               School Opening with Online Class   \n",
       "43               School Opening with Online Class   \n",
       "44               School Opening with Online Class   \n",
       "45               School Opening with Online Class   \n",
       "46               School Opening with Online Class   \n",
       "47               School Opening with Online Class   \n",
       "48                                     Open Data    \n",
       "49                                       Open API   \n",
       "50                             Self-Diagnosis App   \n",
       "51          Self-Quarantine Safety Protection App   \n",
       "52                          Electronic Wristbands   \n",
       "53                           Close bars and clubs   \n",
       "54         local government Administrative orders   \n",
       "55                                  Close karaoke   \n",
       "56                               Logistics center   \n",
       "57                               Wearing of masks   \n",
       "58                               Wearing of masks   \n",
       "59                 KI-Pass: Korea Internet - Pass   \n",
       "60         Extends Tightened Quarantine Measures    \n",
       "\n",
       "                                               detail  start_date    end_date  \n",
       "0                                      Level 1 (Blue)  2020-01-03  2020-01-19  \n",
       "1                                    Level 2 (Yellow)  2020-01-20  2020-01-27  \n",
       "2                                    Level 3 (Orange)  2020-01-28  2020-02-22  \n",
       "3                                       Level 4 (Red)  2020-02-23         NaN  \n",
       "4                                          from China  2020-02-04         NaN  \n",
       "5                                      from Hong Kong  2020-02-12         NaN  \n",
       "6                                          from Macau  2020-02-12         NaN  \n",
       "7                                          from Japan  2020-03-09         NaN  \n",
       "8                                          from Italy  2020-03-12         NaN  \n",
       "9                                           from Iran  2020-03-12         NaN  \n",
       "10                                        from France  2020-03-15         NaN  \n",
       "11                                       from Germany  2020-03-15         NaN  \n",
       "12                                         from Spain  2020-03-15         NaN  \n",
       "13                                          from U.K.  2020-03-15         NaN  \n",
       "14                                   from Netherlands  2020-03-15         NaN  \n",
       "15                                        from Europe  2020-03-16         NaN  \n",
       "16                             from all the countries  2020-03-19         NaN  \n",
       "17                             from all the countries  2020-04-01         NaN  \n",
       "18                                          from U.S.  2020-04-13         NaN  \n",
       "19                                            1st EUA  2020-02-04         NaN  \n",
       "20                                            2nd EUA  2020-02-12         NaN  \n",
       "21                                            3rd EUA  2020-02-27         NaN  \n",
       "22                                            4th EUA  2020-02-27         NaN  \n",
       "23                                            5th EUA  2020-03-13         NaN  \n",
       "24                                by Local Government  2020-02-26         NaN  \n",
       "25                      Standard Operating Procedures  2020-03-04         NaN  \n",
       "26                                        Public-Sale  2020-02-27         NaN  \n",
       "27                              5-day Rotation System  2020-03-09         NaN  \n",
       "28                                             Strong  2020-02-29  2020-03-21  \n",
       "29                                             Strong  2020-03-22  2020-04-19  \n",
       "..                                                ...         ...         ...  \n",
       "31                                          Weak(1st)  2020-05-06         NaN  \n",
       "32                        Relay Cheer Campaign in SNS  2020-04-16         NaN  \n",
       "33                        Daycare Center for Children  2020-03-02         NaN  \n",
       "34                                       Kindergarten  2020-03-02  2020-04-06  \n",
       "35                                        High School  2020-03-02  2020-04-06  \n",
       "36                                      Middle School  2020-03-02  2020-04-06  \n",
       "37                                  Elementary School  2020-03-02  2020-04-06  \n",
       "38                            High School (3rd grade)  2020-04-09  2020-05-20  \n",
       "39                            High School (2nd grade)  2020-04-16  2020-05-27  \n",
       "40                            High School (1st grade)  2020-04-16  2020-06-03  \n",
       "41                          Middle School (3rd grade)  2020-04-09  2020-05-27  \n",
       "42                          Middle School (2nd grade)  2020-04-16  2020-06-03  \n",
       "43                          Middle School (1st grade)  2020-04-16  2020-06-08  \n",
       "44                Elementary School (5th ~ 6th grade)  2020-04-16  2020-06-08  \n",
       "45                      Elementary School (4th grade)  2020-04-16  2020-06-03  \n",
       "46                      Elementary School (3rd grade)  2020-04-20  2020-06-03  \n",
       "47                Elementary School (1st ~ 2nd grade)  2020-04-20  2020-05-27  \n",
       "48                               Patients Information  2020-01-20         NaN  \n",
       "49                      Public Mask Sales Information  2020-03-08         NaN  \n",
       "50                                                NaN  2020-02-12         NaN  \n",
       "51                                                NaN  2020-03-07         NaN  \n",
       "52     on people who violate self-quarantine measures  2020-04-27         NaN  \n",
       "53       administrative order to close bars and clubs  2020-05-08  2020-06-07  \n",
       "54  Gathering limited administrative orders for nu...  2020-05-16         NaN  \n",
       "55  Ban on gathering for 2 weeks for all karaoke a...  2020-05-21  2020-06-03  \n",
       "56  On-site inspection of major logistics faciliti...  2020-05-29  2020-06-11  \n",
       "57  Mandatory wearing of passenger mask domestic, ...  2020-05-27         NaN  \n",
       "58  Drivers such as buses and taxis can refuse to ...  2020-05-26         NaN  \n",
       "59  new quick response (QR) code system this week ...  2020-06-10         NaN  \n",
       "60  Gov't Extends Tightened Quarantine Measures in...  2020-05-28  2020-06-14  \n",
       "\n",
       "[61 rows x 7 columns]"
      ]
     },
     "execution_count": 138,
     "metadata": {},
     "output_type": "execute_result"
    }
   ],
   "source": [
    "dataset_policy\n",
    "#Key Details:\n",
    "#1. Level 1(Blue) Infectious Disease Alert was announced by the govt as early as 3rd January\n",
    "#2. Level 2(Yellow) Infectious Disease Alert was announced by the govt on 20th January, l3 on 28th jan\n",
    "#3. The highest Red Alert was announced on 23rd February\n",
    "#4. Immigration procedure was started to be heavily scrutinized starting from 4th Feb. It was limited to Chinese immigrants initially.\n",
    "#5. Special immigration procedure was mandated on all countries on 19th March\n",
    "#6. Drive through screening centre was first started by local govt on 26 Feb\n",
    "#7. All Schools were shut on 2nd March\n",
    "#8. High School online classes started on 9th April, rest of the classes from next week."
   ]
  },
  {
   "cell_type": "code",
   "execution_count": 362,
   "metadata": {},
   "outputs": [],
   "source": [
    "dataset_weather = pd.read_csv('Weather.csv')"
   ]
  },
  {
   "cell_type": "code",
   "execution_count": 363,
   "metadata": {},
   "outputs": [],
   "source": [
    "dataset_weather = dataset_weather.sort_values(by='code')\n"
   ]
  },
  {
   "cell_type": "code",
   "execution_count": 364,
   "metadata": {
    "scrolled": true
   },
   "outputs": [
    {
     "data": {
      "text/html": [
       "<div>\n",
       "<style scoped>\n",
       "    .dataframe tbody tr th:only-of-type {\n",
       "        vertical-align: middle;\n",
       "    }\n",
       "\n",
       "    .dataframe tbody tr th {\n",
       "        vertical-align: top;\n",
       "    }\n",
       "\n",
       "    .dataframe thead th {\n",
       "        text-align: right;\n",
       "    }\n",
       "</style>\n",
       "<table border=\"1\" class=\"dataframe\">\n",
       "  <thead>\n",
       "    <tr style=\"text-align: right;\">\n",
       "      <th></th>\n",
       "      <th>code</th>\n",
       "      <th>province</th>\n",
       "      <th>date</th>\n",
       "      <th>avg_temp</th>\n",
       "      <th>min_temp</th>\n",
       "      <th>max_temp</th>\n",
       "      <th>precipitation</th>\n",
       "      <th>max_wind_speed</th>\n",
       "      <th>most_wind_direction</th>\n",
       "      <th>avg_relative_humidity</th>\n",
       "    </tr>\n",
       "  </thead>\n",
       "  <tbody>\n",
       "    <tr>\n",
       "      <th>0</th>\n",
       "      <td>10000</td>\n",
       "      <td>Seoul</td>\n",
       "      <td>2016-01-01</td>\n",
       "      <td>1.2</td>\n",
       "      <td>-3.3</td>\n",
       "      <td>4.0</td>\n",
       "      <td>0.0</td>\n",
       "      <td>3.5</td>\n",
       "      <td>90.0</td>\n",
       "      <td>73.0</td>\n",
       "    </tr>\n",
       "    <tr>\n",
       "      <th>9712</th>\n",
       "      <td>10000</td>\n",
       "      <td>Seoul</td>\n",
       "      <td>2017-08-30</td>\n",
       "      <td>19.8</td>\n",
       "      <td>16.1</td>\n",
       "      <td>23.9</td>\n",
       "      <td>0.0</td>\n",
       "      <td>4.5</td>\n",
       "      <td>270.0</td>\n",
       "      <td>55.8</td>\n",
       "    </tr>\n",
       "    <tr>\n",
       "      <th>9728</th>\n",
       "      <td>10000</td>\n",
       "      <td>Seoul</td>\n",
       "      <td>2017-08-31</td>\n",
       "      <td>22.2</td>\n",
       "      <td>16.6</td>\n",
       "      <td>27.6</td>\n",
       "      <td>0.0</td>\n",
       "      <td>4.1</td>\n",
       "      <td>50.0</td>\n",
       "      <td>62.4</td>\n",
       "    </tr>\n",
       "    <tr>\n",
       "      <th>9744</th>\n",
       "      <td>10000</td>\n",
       "      <td>Seoul</td>\n",
       "      <td>2017-09-01</td>\n",
       "      <td>23.3</td>\n",
       "      <td>17.1</td>\n",
       "      <td>29.7</td>\n",
       "      <td>0.0</td>\n",
       "      <td>4.4</td>\n",
       "      <td>70.0</td>\n",
       "      <td>56.0</td>\n",
       "    </tr>\n",
       "    <tr>\n",
       "      <th>9760</th>\n",
       "      <td>10000</td>\n",
       "      <td>Seoul</td>\n",
       "      <td>2017-09-02</td>\n",
       "      <td>23.8</td>\n",
       "      <td>18.6</td>\n",
       "      <td>29.6</td>\n",
       "      <td>0.0</td>\n",
       "      <td>4.2</td>\n",
       "      <td>50.0</td>\n",
       "      <td>59.0</td>\n",
       "    </tr>\n",
       "  </tbody>\n",
       "</table>\n",
       "</div>"
      ],
      "text/plain": [
       "       code province        date  avg_temp  min_temp  max_temp  precipitation  \\\n",
       "0     10000    Seoul  2016-01-01       1.2      -3.3       4.0            0.0   \n",
       "9712  10000    Seoul  2017-08-30      19.8      16.1      23.9            0.0   \n",
       "9728  10000    Seoul  2017-08-31      22.2      16.6      27.6            0.0   \n",
       "9744  10000    Seoul  2017-09-01      23.3      17.1      29.7            0.0   \n",
       "9760  10000    Seoul  2017-09-02      23.8      18.6      29.6            0.0   \n",
       "\n",
       "      max_wind_speed  most_wind_direction  avg_relative_humidity  \n",
       "0                3.5                 90.0                   73.0  \n",
       "9712             4.5                270.0                   55.8  \n",
       "9728             4.1                 50.0                   62.4  \n",
       "9744             4.4                 70.0                   56.0  \n",
       "9760             4.2                 50.0                   59.0  "
      ]
     },
     "execution_count": 364,
     "metadata": {},
     "output_type": "execute_result"
    }
   ],
   "source": [
    "seoul_data = dataset_weather.iloc[:1642,:]\n",
    "dataset_weather.head()"
   ]
  },
  {
   "cell_type": "code",
   "execution_count": 365,
   "metadata": {},
   "outputs": [
    {
     "data": {
      "text/html": [
       "<div>\n",
       "<style scoped>\n",
       "    .dataframe tbody tr th:only-of-type {\n",
       "        vertical-align: middle;\n",
       "    }\n",
       "\n",
       "    .dataframe tbody tr th {\n",
       "        vertical-align: top;\n",
       "    }\n",
       "\n",
       "    .dataframe thead th {\n",
       "        text-align: right;\n",
       "    }\n",
       "</style>\n",
       "<table border=\"1\" class=\"dataframe\">\n",
       "  <thead>\n",
       "    <tr style=\"text-align: right;\">\n",
       "      <th></th>\n",
       "      <th>code</th>\n",
       "      <th>province</th>\n",
       "      <th>date</th>\n",
       "      <th>avg_temp</th>\n",
       "      <th>min_temp</th>\n",
       "      <th>max_temp</th>\n",
       "      <th>precipitation</th>\n",
       "      <th>max_wind_speed</th>\n",
       "      <th>most_wind_direction</th>\n",
       "      <th>avg_relative_humidity</th>\n",
       "    </tr>\n",
       "  </thead>\n",
       "  <tbody>\n",
       "    <tr>\n",
       "      <th>928</th>\n",
       "      <td>10000</td>\n",
       "      <td>Seoul</td>\n",
       "      <td>2016-02-28</td>\n",
       "      <td>0.7</td>\n",
       "      <td>-2.6</td>\n",
       "      <td>6.9</td>\n",
       "      <td>4.1</td>\n",
       "      <td>5.3</td>\n",
       "      <td>90.0</td>\n",
       "      <td>65.5</td>\n",
       "    </tr>\n",
       "    <tr>\n",
       "      <th>560</th>\n",
       "      <td>10000</td>\n",
       "      <td>Seoul</td>\n",
       "      <td>2016-02-05</td>\n",
       "      <td>-2.2</td>\n",
       "      <td>-6.8</td>\n",
       "      <td>3.4</td>\n",
       "      <td>0.0</td>\n",
       "      <td>5.4</td>\n",
       "      <td>320.0</td>\n",
       "      <td>39.4</td>\n",
       "    </tr>\n",
       "    <tr>\n",
       "      <th>448</th>\n",
       "      <td>10000</td>\n",
       "      <td>Seoul</td>\n",
       "      <td>2016-01-29</td>\n",
       "      <td>1.9</td>\n",
       "      <td>-1.4</td>\n",
       "      <td>5.4</td>\n",
       "      <td>0.0</td>\n",
       "      <td>4.4</td>\n",
       "      <td>90.0</td>\n",
       "      <td>43.6</td>\n",
       "    </tr>\n",
       "    <tr>\n",
       "      <th>256</th>\n",
       "      <td>10000</td>\n",
       "      <td>Seoul</td>\n",
       "      <td>2016-01-17</td>\n",
       "      <td>1.7</td>\n",
       "      <td>-0.7</td>\n",
       "      <td>5.4</td>\n",
       "      <td>0.0</td>\n",
       "      <td>4.0</td>\n",
       "      <td>90.0</td>\n",
       "      <td>64.0</td>\n",
       "    </tr>\n",
       "    <tr>\n",
       "      <th>768</th>\n",
       "      <td>10000</td>\n",
       "      <td>Seoul</td>\n",
       "      <td>2016-02-18</td>\n",
       "      <td>3.5</td>\n",
       "      <td>-1.4</td>\n",
       "      <td>7.8</td>\n",
       "      <td>0.0</td>\n",
       "      <td>7.6</td>\n",
       "      <td>270.0</td>\n",
       "      <td>66.4</td>\n",
       "    </tr>\n",
       "  </tbody>\n",
       "</table>\n",
       "</div>"
      ],
      "text/plain": [
       "      code province        date  avg_temp  min_temp  max_temp  precipitation  \\\n",
       "928  10000    Seoul  2016-02-28       0.7      -2.6       6.9            4.1   \n",
       "560  10000    Seoul  2016-02-05      -2.2      -6.8       3.4            0.0   \n",
       "448  10000    Seoul  2016-01-29       1.9      -1.4       5.4            0.0   \n",
       "256  10000    Seoul  2016-01-17       1.7      -0.7       5.4            0.0   \n",
       "768  10000    Seoul  2016-02-18       3.5      -1.4       7.8            0.0   \n",
       "\n",
       "     max_wind_speed  most_wind_direction  avg_relative_humidity  \n",
       "928             5.3                 90.0                   65.5  \n",
       "560             5.4                320.0                   39.4  \n",
       "448             4.4                 90.0                   43.6  \n",
       "256             4.0                 90.0                   64.0  \n",
       "768             7.6                270.0                   66.4  "
      ]
     },
     "execution_count": 365,
     "metadata": {},
     "output_type": "execute_result"
    }
   ],
   "source": [
    "seoul_data.tail()"
   ]
  },
  {
   "cell_type": "code",
   "execution_count": 394,
   "metadata": {},
   "outputs": [],
   "source": [
    "seoul_data = seoul_data.sort_values(by='date')"
   ]
  },
  {
   "cell_type": "code",
   "execution_count": 404,
   "metadata": {},
   "outputs": [],
   "source": [
    "seoul_data_2020 = seoul_data.iloc[1461:,:]"
   ]
  },
  {
   "cell_type": "code",
   "execution_count": 407,
   "metadata": {},
   "outputs": [
    {
     "data": {
      "text/html": [
       "<div>\n",
       "<style scoped>\n",
       "    .dataframe tbody tr th:only-of-type {\n",
       "        vertical-align: middle;\n",
       "    }\n",
       "\n",
       "    .dataframe tbody tr th {\n",
       "        vertical-align: top;\n",
       "    }\n",
       "\n",
       "    .dataframe thead th {\n",
       "        text-align: right;\n",
       "    }\n",
       "</style>\n",
       "<table border=\"1\" class=\"dataframe\">\n",
       "  <thead>\n",
       "    <tr style=\"text-align: right;\">\n",
       "      <th></th>\n",
       "      <th>code</th>\n",
       "      <th>province</th>\n",
       "      <th>date</th>\n",
       "      <th>avg_temp</th>\n",
       "      <th>min_temp</th>\n",
       "      <th>max_temp</th>\n",
       "      <th>precipitation</th>\n",
       "      <th>max_wind_speed</th>\n",
       "      <th>most_wind_direction</th>\n",
       "      <th>avg_relative_humidity</th>\n",
       "    </tr>\n",
       "  </thead>\n",
       "  <tbody>\n",
       "    <tr>\n",
       "      <th>23375</th>\n",
       "      <td>10000</td>\n",
       "      <td>Seoul</td>\n",
       "      <td>2020-01-01</td>\n",
       "      <td>-2.2</td>\n",
       "      <td>-6.5</td>\n",
       "      <td>0.3</td>\n",
       "      <td>0.0</td>\n",
       "      <td>2.6</td>\n",
       "      <td>50.0</td>\n",
       "      <td>64.4</td>\n",
       "    </tr>\n",
       "    <tr>\n",
       "      <th>23391</th>\n",
       "      <td>10000</td>\n",
       "      <td>Seoul</td>\n",
       "      <td>2020-01-02</td>\n",
       "      <td>1.0</td>\n",
       "      <td>-0.7</td>\n",
       "      <td>3.8</td>\n",
       "      <td>0.0</td>\n",
       "      <td>4.0</td>\n",
       "      <td>50.0</td>\n",
       "      <td>65.4</td>\n",
       "    </tr>\n",
       "    <tr>\n",
       "      <th>23407</th>\n",
       "      <td>10000</td>\n",
       "      <td>Seoul</td>\n",
       "      <td>2020-01-03</td>\n",
       "      <td>-0.1</td>\n",
       "      <td>-3.4</td>\n",
       "      <td>4.6</td>\n",
       "      <td>0.0</td>\n",
       "      <td>3.5</td>\n",
       "      <td>290.0</td>\n",
       "      <td>56.9</td>\n",
       "    </tr>\n",
       "    <tr>\n",
       "      <th>23423</th>\n",
       "      <td>10000</td>\n",
       "      <td>Seoul</td>\n",
       "      <td>2020-01-04</td>\n",
       "      <td>1.2</td>\n",
       "      <td>-2.8</td>\n",
       "      <td>6.1</td>\n",
       "      <td>0.0</td>\n",
       "      <td>4.5</td>\n",
       "      <td>50.0</td>\n",
       "      <td>50.8</td>\n",
       "    </tr>\n",
       "    <tr>\n",
       "      <th>23439</th>\n",
       "      <td>10000</td>\n",
       "      <td>Seoul</td>\n",
       "      <td>2020-01-05</td>\n",
       "      <td>1.3</td>\n",
       "      <td>-3.2</td>\n",
       "      <td>6.6</td>\n",
       "      <td>0.0</td>\n",
       "      <td>2.9</td>\n",
       "      <td>50.0</td>\n",
       "      <td>45.6</td>\n",
       "    </tr>\n",
       "  </tbody>\n",
       "</table>\n",
       "</div>"
      ],
      "text/plain": [
       "        code province        date  avg_temp  min_temp  max_temp  \\\n",
       "23375  10000    Seoul  2020-01-01      -2.2      -6.5       0.3   \n",
       "23391  10000    Seoul  2020-01-02       1.0      -0.7       3.8   \n",
       "23407  10000    Seoul  2020-01-03      -0.1      -3.4       4.6   \n",
       "23423  10000    Seoul  2020-01-04       1.2      -2.8       6.1   \n",
       "23439  10000    Seoul  2020-01-05       1.3      -3.2       6.6   \n",
       "\n",
       "       precipitation  max_wind_speed  most_wind_direction  \\\n",
       "23375            0.0             2.6                 50.0   \n",
       "23391            0.0             4.0                 50.0   \n",
       "23407            0.0             3.5                290.0   \n",
       "23423            0.0             4.5                 50.0   \n",
       "23439            0.0             2.9                 50.0   \n",
       "\n",
       "       avg_relative_humidity  \n",
       "23375                   64.4  \n",
       "23391                   65.4  \n",
       "23407                   56.9  \n",
       "23423                   50.8  \n",
       "23439                   45.6  "
      ]
     },
     "execution_count": 407,
     "metadata": {},
     "output_type": "execute_result"
    }
   ],
   "source": [
    "seoul_data_2020.head()"
   ]
  },
  {
   "cell_type": "code",
   "execution_count": 408,
   "metadata": {},
   "outputs": [],
   "source": [
    "seoul_weather_2020 = seoul_data_2020.iloc[:,[3,9]].values"
   ]
  },
  {
   "cell_type": "code",
   "execution_count": 410,
   "metadata": {},
   "outputs": [
    {
     "data": {
      "text/plain": [
       "array([[-2.2, 64.4],\n",
       "       [ 1. , 65.4],\n",
       "       [-0.1, 56.9],\n",
       "       [ 1.2, 50.8],\n",
       "       [ 1.3, 45.6]])"
      ]
     },
     "execution_count": 410,
     "metadata": {},
     "output_type": "execute_result"
    }
   ],
   "source": [
    "seoul_weather_2020[0:5]"
   ]
  },
  {
   "cell_type": "code",
   "execution_count": 411,
   "metadata": {},
   "outputs": [],
   "source": [
    "seoul_2020_temp = []\n",
    "seoul_2020_humid = []\n",
    "\n",
    "for i in seoul_weather_2020:\n",
    "    seoul_2020_temp.append(i[0])\n",
    "    seoul_2020_humid.append(i[1])\n",
    "    "
   ]
  },
  {
   "cell_type": "code",
   "execution_count": 414,
   "metadata": {},
   "outputs": [
    {
     "data": {
      "text/plain": [
       "<matplotlib.legend.Legend at 0x1f17bb79358>"
      ]
     },
     "execution_count": 414,
     "metadata": {},
     "output_type": "execute_result"
    },
    {
     "data": {
      "image/png": "[encoded data removed]",
      "text/plain": [
       "<Figure size 1080x360 with 1 Axes>"
      ]
     },
     "metadata": {
      "needs_background": "light"
     },
     "output_type": "display_data"
    }
   ],
   "source": [
    "plt.figure(figsize=(15,5))\n",
    "plt.plot(seoul_2020_humid)\n",
    "plt.plot(day_by_day_confirmed)\n",
    "plt.xlabel('Month')\n",
    "plt.title('Correlation between new cases and average temperature')\n",
    "plt.xticks(ticks=[0,32,60,91,121,152], labels=['January','February','March','April','May','June'])\n",
    "plt.legend(labels=['Average Temperature','New Cases'])"
   ]
  },
  {
   "cell_type": "code",
   "execution_count": 417,
   "metadata": {},
   "outputs": [
    {
     "data": {
      "image/png": "[encoded data removed]",
      "text/plain": [
       "<Figure size 1080x360 with 1 Axes>"
      ]
     },
     "metadata": {
      "needs_background": "light"
     },
     "output_type": "display_data"
    }
   ],
   "source": [
    "plt.figure(figsize=(15,5))\n",
    "plt.plot(all_deceased)\n",
    "plt.title('COVID-19 deceased figures (so far)')\n",
    "plt.ylabel('Deceased')\n",
    "plt.xticks(ticks=[0,11,40,71,101,132] ,labels = ['Jan','Feb','Mar','Apr','May','Jun'])\n",
    "plt.show()"
   ]
  },
  {
   "cell_type": "code",
   "execution_count": 420,
   "metadata": {},
   "outputs": [
    {
     "data": {
      "image/png": "[encoded data removed]",
      "text/plain": [
       "<Figure size 1080x360 with 1 Axes>"
      ]
     },
     "metadata": {
      "needs_background": "light"
     },
     "output_type": "display_data"
    }
   ],
   "source": [
    "plt.figure(figsize=(15,5))\n",
    "plt.plot(all_test)\n",
    "plt.title('COVID-19 testing figures (cumulative)')\n",
    "plt.ylabel('Total Tests Done')\n",
    "plt.xticks(ticks=[0,11,40,71,101,132] ,labels = ['Jan','Feb','Mar','Apr','May','Jun'])\n",
    "plt.show()"
   ]
  },
  {
   "cell_type": "code",
   "execution_count": 419,
   "metadata": {},
   "outputs": [
    {
     "data": {
      "image/png": "[encoded data removed]",
      "text/plain": [
       "<Figure size 1080x360 with 1 Axes>"
      ]
     },
     "metadata": {
      "needs_background": "light"
     },
     "output_type": "display_data"
    }
   ],
   "source": [
    "plt.figure(figsize=(15,5))\n",
    "plt.plot(all_confirmed)\n",
    "plt.title('COVID-19 confirmed figures (cumulative)')\n",
    "plt.ylabel('Total Confirmed')\n",
    "plt.xticks(ticks=[0,11,40,71,101,132] ,labels = ['Jan','Feb','Mar','Apr','May','Jun'])\n",
    "plt.show()"
   ]
  },
  {
   "cell_type": "code",
   "execution_count": null,
   "metadata": {},
   "outputs": [],
   "source": []
  }
 ],
 "metadata": {
  "kernelspec": {
   "display_name": "Python 3",
   "language": "python",
   "name": "python3"
  },
  "language_info": {
   "codemirror_mode": {
    "name": "ipython",
    "version": 3
   },
   "file_extension": ".py",
   "mimetype": "text/x-python",
   "name": "python",
   "nbconvert_exporter": "python",
   "pygments_lexer": "ipython3",
   "version": "3.7.3"
  }
 },
 "nbformat": 4,
 "nbformat_minor": 2
}
